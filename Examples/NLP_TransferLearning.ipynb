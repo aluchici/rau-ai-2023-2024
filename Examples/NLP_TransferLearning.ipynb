{
  "nbformat": 4,
  "nbformat_minor": 0,
  "metadata": {
    "colab": {
      "provenance": []
    },
    "kernelspec": {
      "name": "python3",
      "display_name": "Python 3"
    },
    "language_info": {
      "name": "python"
    }
  },
  "cells": [
    {
      "cell_type": "markdown",
      "source": [
        "# Language Generation Task Using Transfer Learning with Hugging Face Models\n",
        "\n",
        "In this example, I'll demonstrate how to use a pre-trained language model from Hugging Face, fine-tune it for a specific task, and then use it for text generation. We'll use the GPT-2 model, which is well-suited for language generation tasks."
      ],
      "metadata": {
        "id": "ndcvCwfSqH8f"
      }
    },
    {
      "cell_type": "markdown",
      "source": [
        "# Step 1: Install Required Libraries\n",
        "First, we'll install the necessary libraries. Hugging Face's transformers library provides easy access to pre-trained models and tokenizers."
      ],
      "metadata": {
        "id": "5qvgiDZWqTxy"
      }
    },
    {
      "cell_type": "code",
      "execution_count": null,
      "metadata": {
        "id": "m7wINtEqpvK6"
      },
      "outputs": [],
      "source": [
        "!pip install transformers[torch]\n",
        "!pip install datasets\n",
        "!pip install accelerate>=0.21.0"
      ]
    },
    {
      "cell_type": "code",
      "source": [
        "import torch"
      ],
      "metadata": {
        "id": "Ewp-bGiMsxCY"
      },
      "execution_count": 20,
      "outputs": []
    },
    {
      "cell_type": "markdown",
      "source": [
        "# Step 2: Load a Pre-Trained Model and Tokenizer\n",
        "We'll load the pre-trained GPT-2 model and its tokenizer. The tokenizer is responsible for converting text into tokens that the model can understand."
      ],
      "metadata": {
        "id": "LspADfZaqbbH"
      }
    },
    {
      "cell_type": "code",
      "source": [
        "# We start by loading a pre-trained GPT-2 model and its tokenizer from the\n",
        "# Hugging Face transformers library. The pre-trained model already has learned\n",
        "# representations from vast amounts of text data, which we can leverage for our task.\n",
        "from transformers import GPT2LMHeadModel, GPT2Tokenizer\n",
        "\n",
        "# Load the pre-trained GPT-2 model\n",
        "model_name = 'gpt2'\n",
        "model = GPT2LMHeadModel.from_pretrained(model_name)\n",
        "\n",
        "# Load the tokenizer\n",
        "tokenizer = GPT2Tokenizer.from_pretrained(model_name)\n",
        "tokenizer.pad_token = tokenizer.eos_token  # Use end-of-sequence token as the padding token\n"
      ],
      "metadata": {
        "id": "hj_skY9QqXVF"
      },
      "execution_count": 21,
      "outputs": []
    },
    {
      "cell_type": "markdown",
      "source": [
        "# Step 3: Fine-Tune the Model\n",
        "Fine-tuning a pre-trained model involves training it on a specific dataset to adapt it to a particular task. We'll use the Hugging Face datasets library to load a dataset. For this example, let's fine-tune the model on a small dataset of text."
      ],
      "metadata": {
        "id": "FP4jAwgYqkO6"
      }
    },
    {
      "cell_type": "code",
      "source": [
        "# Fine-tuning involves training the pre-trained model on a new, task-specific dataset.\n",
        "#This process adjusts the model's weights slightly to better fit the new data.\n",
        "#We use the Trainer class from the transformers library, which simplifies the training\n",
        "# process. The TrainingArguments specify the training configurations,\n",
        "# such as the number of epochs, batch size, and learning rate.\n",
        "from datasets import load_dataset\n",
        "from transformers import Trainer, TrainingArguments\n",
        "\n",
        "# Load a dataset (we'll use the wikitext dataset for demonstration)\n",
        "dataset = load_dataset('wikitext', 'wikitext-2-raw-v1')\n",
        "train_dataset = dataset['train']\n",
        "test_dataset = dataset['test']\n",
        "\n",
        "# Tokenize the dataset\n",
        "def tokenize_function(examples):\n",
        "    return tokenizer(examples['text'], return_tensors='pt', truncation=True, padding='max_length', max_length=250)\n",
        "\n",
        "train_dataset = train_dataset.map(tokenize_function, batched=True, remove_columns=['text'])\n",
        "test_dataset = test_dataset.map(tokenize_function, batched=True, remove_columns=['text'])\n",
        "\n",
        "# Set training arguments\n",
        "training_args = TrainingArguments(\n",
        "    output_dir='./results',\n",
        "    num_train_epochs=1,\n",
        "    per_device_train_batch_size=4,\n",
        "    per_device_eval_batch_size=4,\n",
        "    warmup_steps=500,\n",
        "    weight_decay=0.01,\n",
        "    logging_dir='./logs',\n",
        "    logging_steps=10,\n",
        ")\n",
        "\n",
        "# Initialize the Trainer\n",
        "trainer = Trainer(\n",
        "    model=model,\n",
        "    args=training_args,\n",
        "    train_dataset=train_dataset,\n",
        "    eval_dataset=test_dataset,\n",
        ")\n",
        "\n",
        "# Train the model\n",
        "trainer.train()\n"
      ],
      "metadata": {
        "id": "eM49wXZAqe-9"
      },
      "execution_count": null,
      "outputs": []
    },
    {
      "cell_type": "markdown",
      "source": [
        "# Step 4: Use the Fine-Tuned Model for Text Generation\n",
        "After fine-tuning, we can use the model to generate text based on a given prompt. The generate method allows us to specify the maximum length of the generated text and other parameters."
      ],
      "metadata": {
        "id": "W8WvKT-dqrSd"
      }
    },
    {
      "cell_type": "code",
      "source": [
        "# Once the model is fine-tuned, we can use it for text generation. We provide\n",
        "# a text prompt and use the generate method to produce a continuation of the text.\n",
        "# The tokenizer converts the text into tokens, which the model processes to\n",
        "# generate the output tokens. Finally, we decode the tokens back into human-readable text.\n",
        "\n",
        "# Define a text prompt\n",
        "prompt = \"Once upon a time\"\n",
        "\n",
        "# Tokenize the input prompt\n",
        "input_ids = tokenizer.encode(prompt, return_tensors='pt')\n",
        "\n",
        "# Generate text\n",
        "output = model.generate(input_ids, max_length=100, num_return_sequences=1)\n",
        "\n",
        "# Decode the generated text\n",
        "generated_text = tokenizer.decode(output[0], skip_special_tokens=True)\n",
        "print(generated_text)\n"
      ],
      "metadata": {
        "id": "OQjxBBZ6qvDk"
      },
      "execution_count": null,
      "outputs": []
    },
    {
      "cell_type": "markdown",
      "source": [
        "# Try it yourself\n",
        "\n",
        "1. Dataset Modification: Modify the dataset to use a different text dataset available in Hugging Face's datasets library. How does the model's output change with the new dataset?\n",
        "Text Generation Parameters:\n",
        "\n",
        "2. Modify the code to generate text with different parameters such as max_length, num_return_sequences, and temperature. How do these parameters affect the generated text?\n",
        "\n",
        "3. Model Performance: Fine-tune the model for more epochs. How does the quality of the generated text change with additional training?\n",
        "\n",
        "4. Output Analysis: Generate text with different prompts and analyze the coherence and relevance of the output. Are there any patterns in how the model responds to different prompts?"
      ],
      "metadata": {
        "id": "yt1ZVZRxtZYh"
      }
    }
  ]
}