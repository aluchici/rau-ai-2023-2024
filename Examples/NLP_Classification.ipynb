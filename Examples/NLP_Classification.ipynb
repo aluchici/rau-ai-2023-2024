{
  "cells": [
    {
      "cell_type": "markdown",
      "metadata": {
        "id": "tKgONKkcn3Jv"
      },
      "source": [
        "Welcome to this tutorial on deep learning with Keras, where we'll dive into the fascinating world of natural language processing (NLP). In this hands-on tutorial, I'll guide you through building and training a neural network for a text classification task using the IMDb Movie Reviews dataset. By the end of this tutorial, you'll have a solid understanding of the essential concepts in deep learning and practical experience in implementing a neural network for an NLP task.\n",
        "\n",
        "### What is Deep Learning?\n",
        "Deep learning is a subset of machine learning that mimics the workings of the human brain to process data and create patterns for decision-making. It uses neural networks with multiple layers (hence \"deep\") to learn representations of data with multiple levels of abstraction. This approach has been incredibly successful in various domains, such as image recognition, speech processing, and natural language understanding.\n",
        "\n",
        "#### Key characteristics of deep learning include:\n",
        "\n",
        "* Hierarchical Feature Learning: Deep learning models can automatically discover and learn hierarchical features from the input data.\n",
        "* End-to-End Learning: These models can be trained end-to-end, directly mapping inputs to desired outputs.\n",
        "* Scalability: Deep learning models often improve with more data and computational power.\n",
        "\n",
        "### What is Keras?\n",
        "Keras is a high-level neural networks API, written in Python and capable of running on top of TensorFlow, CNTK, or Theano. It was developed to enable fast experimentation and is user-friendly, modular, and extensible. With Keras, you can quickly build and train deep learning models with just a few lines of code.\n",
        "\n",
        "#### Key characteristics of Keras\n",
        "* Simplicity and Ease of Use: Keras offers a simple and consistent interface optimized for common use cases, making it easy to build and train models.\n",
        "* Modularity: Models are made by connecting configurable building blocks, making the framework highly modular.\n",
        "* Support for Multiple Backends: Keras can run on top of TensorFlow, CNTK, or Theano, allowing flexibility and compatibility with various ecosystems."
      ]
    },
    {
      "cell_type": "markdown",
      "metadata": {
        "id": "iQII3aJXn3Jy"
      },
      "source": [
        "### Dataset\n",
        "\n",
        "We will use the keras dataset module to download the data, but you can find more information about the data here:\n",
        "https://www.kaggle.com/datasets/lakshmi25npathi/imdb-dataset-of-50k-movie-reviews"
      ]
    },
    {
      "cell_type": "markdown",
      "metadata": {
        "id": "WXzlxTEfn3Jy"
      },
      "source": [
        "# Step 1: Load data"
      ]
    },
    {
      "cell_type": "code",
      "execution_count": 1,
      "metadata": {
        "colab": {
          "base_uri": "https://localhost:8080/"
        },
        "id": "VPOhEhwTn3Jy",
        "outputId": "46e05dd1-2ff2-4890-b695-9f00a99ee8d6"
      },
      "outputs": [
        {
          "name": "stdout",
          "output_type": "stream",
          "text": [
            "Downloading data from https://storage.googleapis.com/tensorflow/tf-keras-datasets/imdb.npz\n",
            "17464789/17464789 [==============================] - 0s 0us/step\n",
            "Training samples: 25000\n",
            "Test samples: 25000\n"
          ]
        }
      ],
      "source": [
        "from keras.datasets import imdb\n",
        "\n",
        "# Load the IMDb dataset\n",
        "# num_words=10000 means we only keep the top 10,000 most frequently occurring words in the training data\n",
        "(train_data, train_labels), (test_data, test_labels) = imdb.load_data(num_words=10000)\n",
        "\n",
        "print(f\"Training samples: {len(train_data)}\")\n",
        "print(f\"Test samples: {len(test_data)}\")"
      ]
    },
    {
      "cell_type": "code",
      "execution_count": 2,
      "metadata": {
        "colab": {
          "base_uri": "https://localhost:8080/"
        },
        "id": "f7gELVQon3Jz",
        "outputId": "269a0cd1-f331-46af-8284-038f606075e7"
      },
      "outputs": [
        {
          "name": "stdout",
          "output_type": "stream",
          "text": [
            "[1, 14, 22, 16, 43, 530, 973, 1622, 1385, 65, 458, 4468, 66, 3941, 4, 173, 36, 256, 5, 25, 100, 43, 838, 112, 50, 670, 2, 9, 35, 480, 284, 5, 150, 4, 172, 112, 167, 2, 336, 385, 39, 4, 172, 4536, 1111, 17, 546, 38, 13, 447, 4, 192, 50, 16, 6, 147, 2025, 19, 14, 22, 4, 1920, 4613, 469, 4, 22, 71, 87, 12, 16, 43, 530, 38, 76, 15, 13, 1247, 4, 22, 17, 515, 17, 12, 16, 626, 18, 2, 5, 62, 386, 12, 8, 316, 8, 106, 5, 4, 2223, 5244, 16, 480, 66, 3785, 33, 4, 130, 12, 16, 38, 619, 5, 25, 124, 51, 36, 135, 48, 25, 1415, 33, 6, 22, 12, 215, 28, 77, 52, 5, 14, 407, 16, 82, 2, 8, 4, 107, 117, 5952, 15, 256, 4, 2, 7, 3766, 5, 723, 36, 71, 43, 530, 476, 26, 400, 317, 46, 7, 4, 2, 1029, 13, 104, 88, 4, 381, 15, 297, 98, 32, 2071, 56, 26, 141, 6, 194, 7486, 18, 4, 226, 22, 21, 134, 476, 26, 480, 5, 144, 30, 5535, 18, 51, 36, 28, 224, 92, 25, 104, 4, 226, 65, 16, 38, 1334, 88, 12, 16, 283, 5, 16, 4472, 113, 103, 32, 15, 16, 5345, 19, 178, 32]\n",
            "1\n"
          ]
        }
      ],
      "source": [
        "# The train_data and test_data arrays contain lists of integers,\n",
        "# where each integer represents a word in a review. The train_labels and test_labels\n",
        "# arrays contain binary labels (0 for negative and 1 for positive).\n",
        "\n",
        "# Print an example review (as a sequence of integers)\n",
        "print(train_data[0])\n",
        "\n",
        "# Print the corresponding label\n",
        "print(train_labels[0])\n"
      ]
    },
    {
      "cell_type": "code",
      "execution_count": 3,
      "metadata": {
        "colab": {
          "base_uri": "https://localhost:8080/"
        },
        "id": "N9b2mu2Gn3J0",
        "outputId": "ed778d32-c442-48ab-d68a-95dd82d7e89e"
      },
      "outputs": [
        {
          "name": "stdout",
          "output_type": "stream",
          "text": [
            "Downloading data from https://storage.googleapis.com/tensorflow/tf-keras-datasets/imdb_word_index.json\n",
            "1641221/1641221 [==============================] - 0s 0us/step\n",
            "? this film was just brilliant casting location scenery story direction everyone's really suited the part they played and you could just imagine being there robert ? is an amazing actor and now the same being director ? father came from the same scottish island as myself so i loved the fact there was a real connection with this film the witty remarks throughout the film were great it was just brilliant so much that i bought the film as soon as it was released for ? and would recommend it to everyone to watch and the fly fishing was amazing really cried at the end it was so sad and you know what they say if you cry at a film it must have been good and this definitely was also ? to the two little boy's that played the ? of norman and paul they were just brilliant children are often left out of the ? list i think because the stars that play them all grown up are such a big profile for the whole film but these children are amazing and should be praised for what they have done don't you think the whole story was so lovely because it was true and was someone's life after all that was shared with us all\n"
          ]
        }
      ],
      "source": [
        "# To make the review more interpretable, we can decode it back to\n",
        "# words using the Keras get_word_index() function:\n",
        "\n",
        "# Get the word index\n",
        "word_index = imdb.get_word_index()\n",
        "\n",
        "# Reverse the word index to get a mapping from integer to word\n",
        "reverse_word_index = dict([(value, key) for (key, value) in word_index.items()])\n",
        "\n",
        "# Decode the review back to words\n",
        "decoded_review = ' '.join([reverse_word_index.get(i - 3, '?') for i in train_data[0]])\n",
        "print(decoded_review)\n"
      ]
    },
    {
      "cell_type": "markdown",
      "metadata": {
        "id": "hgsVruzfn3J0"
      },
      "source": [
        "# Step 2: Prepare the data\n",
        "\n",
        "After loading the data, we need to clean and prepare it for our task. The code below shows some of the most common preprocessing steps required when dealing with text. This is by no means an exhaustive list.\n",
        "\n",
        "If you run this notebook, please pick which preprocessing method you want to use (padding, One Hot Encoding, or Embeddings). In todays world, embeddings are the most common approach."
      ]
    },
    {
      "cell_type": "code",
      "execution_count": 4,
      "metadata": {
        "colab": {
          "base_uri": "https://localhost:8080/"
        },
        "id": "mkzVSC_An3J0",
        "outputId": "b6b162db-e570-4496-8084-30bcab50d127"
      },
      "outputs": [
        {
          "name": "stdout",
          "output_type": "stream",
          "text": [
            "Padded training sample: [   0    0    0    0    0    0    0    0    0    0    0    0    0    0\n",
            "    0    0    0    0    0    0    0    0    0    0    0    0    0    0\n",
            "    0    0    0    0    0    0    0    0    0    0    1   14   22   16\n",
            "   43  530  973 1622 1385   65  458 4468   66 3941    4  173   36  256\n",
            "    5   25  100   43  838  112   50  670    2    9   35  480  284    5\n",
            "  150    4  172  112  167    2  336  385   39    4  172 4536 1111   17\n",
            "  546   38   13  447    4  192   50   16    6  147 2025   19   14   22\n",
            "    4 1920 4613  469    4   22   71   87   12   16   43  530   38   76\n",
            "   15   13 1247    4   22   17  515   17   12   16  626   18    2    5\n",
            "   62  386   12    8  316    8  106    5    4 2223 5244   16  480   66\n",
            " 3785   33    4  130   12   16   38  619    5   25  124   51   36  135\n",
            "   48   25 1415   33    6   22   12  215   28   77   52    5   14  407\n",
            "   16   82    2    8    4  107  117 5952   15  256    4    2    7 3766\n",
            "    5  723   36   71   43  530  476   26  400  317   46    7    4    2\n",
            " 1029   13  104   88    4  381   15  297   98   32 2071   56   26  141\n",
            "    6  194 7486   18    4  226   22   21  134  476   26  480    5  144\n",
            "   30 5535   18   51   36   28  224   92   25  104    4  226   65   16\n",
            "   38 1334   88   12   16  283    5   16 4472  113  103   32   15   16\n",
            " 5345   19  178   32]\n"
          ]
        }
      ],
      "source": [
        "# Neural networks expect input data to be of uniform shape.\n",
        "# Since reviews have varying lengths, we'll pad them to the same length\n",
        "from keras.preprocessing.sequence import pad_sequences\n",
        "\n",
        "# Pad sequences to a maximum length of 256\n",
        "max_length = 256\n",
        "train_data = pad_sequences(train_data, maxlen=max_length)\n",
        "test_data = pad_sequences(test_data, maxlen=max_length)\n",
        "\n",
        "print(f\"Padded training sample: {train_data[0]}\")\n"
      ]
    },
    {
      "cell_type": "code",
      "execution_count": 5,
      "metadata": {
        "colab": {
          "base_uri": "https://localhost:8080/"
        },
        "id": "R549d_ogn3J0",
        "outputId": "7f7cc6ef-2431-4af5-e560-29f707fd0d82"
      },
      "outputs": [
        {
          "name": "stdout",
          "output_type": "stream",
          "text": [
            "One-hot encoded training sample: [1. 1. 1. ... 0. 0. 0.]\n"
          ]
        }
      ],
      "source": [
        "# Alternatively, we can one-hot encode the sequences.\n",
        "# This method converts each integer into a binary vector:\n",
        "import numpy as np\n",
        "\n",
        "def one_hot_encode(sequences, dimension=10000):\n",
        "    results = np.zeros((len(sequences), dimension))\n",
        "    for i, sequence in enumerate(sequences):\n",
        "        results[i, sequence] = 1.0\n",
        "    return results\n",
        "\n",
        "# One-hot encode the training and test data\n",
        "x_train = one_hot_encode(train_data)\n",
        "x_test = one_hot_encode(test_data)\n",
        "\n",
        "print(f\"One-hot encoded training sample: {x_train[0]}\")\n"
      ]
    },
    {
      "cell_type": "code",
      "execution_count": 6,
      "metadata": {
        "colab": {
          "base_uri": "https://localhost:8080/"
        },
        "id": "8AQZz9Vkn3J1",
        "outputId": "b01e385e-62a1-463e-95d2-de5c2dd0373f"
      },
      "outputs": [
        {
          "name": "stdout",
          "output_type": "stream",
          "text": [
            "Model: \"sequential\"\n",
            "_________________________________________________________________\n",
            " Layer (type)                Output Shape              Param #   \n",
            "=================================================================\n",
            " embedding (Embedding)       (None, 256, 32)           320000    \n",
            "                                                                 \n",
            " flatten (Flatten)           (None, 8192)              0         \n",
            "                                                                 \n",
            " dense (Dense)               (None, 1)                 8193      \n",
            "                                                                 \n",
            "=================================================================\n",
            "Total params: 328193 (1.25 MB)\n",
            "Trainable params: 328193 (1.25 MB)\n",
            "Non-trainable params: 0 (0.00 Byte)\n",
            "_________________________________________________________________\n",
            "None\n"
          ]
        }
      ],
      "source": [
        "# Keras provides an Embedding layer that can be used to learn word embeddings from the data.\n",
        "# We don't need to one-hot encode or pad sequences for this method,\n",
        "# as the Embedding layer can handle integer-encoded sequences directly.\n",
        "from keras.models import Sequential\n",
        "from keras.layers import Embedding, Flatten, Dense\n",
        "\n",
        "# Define a simple model with an Embedding layer\n",
        "model = Sequential()\n",
        "model.add(Embedding(input_dim=10000, output_dim=32, input_length=max_length))\n",
        "model.add(Flatten())\n",
        "model.add(Dense(1, activation='sigmoid'))\n",
        "\n",
        "model.compile(optimizer='rmsprop', loss='binary_crossentropy', metrics=['accuracy'])\n",
        "\n",
        "print(model.summary())\n"
      ]
    },
    {
      "cell_type": "markdown",
      "metadata": {
        "id": "mNa4zDd9n3J1"
      },
      "source": [
        "# Step 3: Building the network\n",
        "\n",
        "Below you find an example (very simple) neural network built using embeddings for our text data. The neural network includes an embedding layer, followed by a flattening layer and a dense layer for classification."
      ]
    },
    {
      "cell_type": "code",
      "execution_count": 7,
      "metadata": {
        "id": "Aw1_clMHn3J1"
      },
      "outputs": [],
      "source": [
        "# Define the network architecture. Start by defining a sequential model and adding the necessary layers.\n",
        "from keras.models import Sequential\n",
        "from keras.layers import Embedding, Flatten, Dense\n",
        "\n",
        "# Define the model\n",
        "model = Sequential()\n",
        "\n",
        "# Add an Embedding layer\n",
        "# input_dim is the size of the vocabulary (10,000 words)\n",
        "# output_dim is the dimension of the dense embedding (e.g., 32)\n",
        "# input_length is the length of the input sequences (256 words)\n",
        "model.add(Embedding(input_dim=10000, output_dim=32, input_length=256))\n",
        "\n",
        "# Add a Flatten layer to flatten the 3D tensor to 2D\n",
        "model.add(Flatten())\n",
        "\n",
        "# Add a Dense layer with a single output unit and sigmoid activation\n",
        "model.add(Dense(1, activation='sigmoid'))\n"
      ]
    },
    {
      "cell_type": "code",
      "execution_count": 8,
      "metadata": {
        "colab": {
          "base_uri": "https://localhost:8080/"
        },
        "id": "hjHcxH5Sn3J2",
        "outputId": "2a044115-57b3-43ad-dba5-4480c2915f00"
      },
      "outputs": [
        {
          "name": "stdout",
          "output_type": "stream",
          "text": [
            "Model: \"sequential_1\"\n",
            "_________________________________________________________________\n",
            " Layer (type)                Output Shape              Param #   \n",
            "=================================================================\n",
            " embedding_1 (Embedding)     (None, 256, 32)           320000    \n",
            "                                                                 \n",
            " flatten_1 (Flatten)         (None, 8192)              0         \n",
            "                                                                 \n",
            " dense_1 (Dense)             (None, 1)                 8193      \n",
            "                                                                 \n",
            "=================================================================\n",
            "Total params: 328193 (1.25 MB)\n",
            "Trainable params: 328193 (1.25 MB)\n",
            "Non-trainable params: 0 (0.00 Byte)\n",
            "_________________________________________________________________\n"
          ]
        }
      ],
      "source": [
        "# Compile the model. We use the binary crossentropy loss function because this is a binary classification problem,\n",
        "# and we'll use the RMSprop optimizer.\n",
        "model.compile(optimizer='rmsprop',\n",
        "              loss='binary_crossentropy',\n",
        "              metrics=['accuracy'])\n",
        "\n",
        "# Print the summary of the model\n",
        "model.summary()"
      ]
    },
    {
      "cell_type": "code",
      "execution_count": 9,
      "metadata": {
        "colab": {
          "base_uri": "https://localhost:8080/"
        },
        "id": "k86VO-RMn3J2",
        "outputId": "0ca05cdc-a286-41bc-b0f7-031721d54952"
      },
      "outputs": [
        {
          "name": "stdout",
          "output_type": "stream",
          "text": [
            "Epoch 1/10\n",
            "625/625 [==============================] - 10s 14ms/step - loss: 0.5153 - accuracy: 0.7406 - val_loss: 0.3345 - val_accuracy: 0.8642\n",
            "Epoch 2/10\n",
            "625/625 [==============================] - 7s 12ms/step - loss: 0.2640 - accuracy: 0.8936 - val_loss: 0.2873 - val_accuracy: 0.8822\n",
            "Epoch 3/10\n",
            "625/625 [==============================] - 4s 6ms/step - loss: 0.1956 - accuracy: 0.9266 - val_loss: 0.2915 - val_accuracy: 0.8794\n",
            "Epoch 4/10\n",
            "625/625 [==============================] - 6s 9ms/step - loss: 0.1446 - accuracy: 0.9506 - val_loss: 0.2902 - val_accuracy: 0.8882\n",
            "Epoch 5/10\n",
            "625/625 [==============================] - 4s 7ms/step - loss: 0.1007 - accuracy: 0.9701 - val_loss: 0.3049 - val_accuracy: 0.8848\n",
            "Epoch 6/10\n",
            "625/625 [==============================] - 4s 6ms/step - loss: 0.0658 - accuracy: 0.9835 - val_loss: 0.3271 - val_accuracy: 0.8848\n",
            "Epoch 7/10\n",
            "625/625 [==============================] - 5s 8ms/step - loss: 0.0398 - accuracy: 0.9920 - val_loss: 0.3585 - val_accuracy: 0.8766\n",
            "Epoch 8/10\n",
            "625/625 [==============================] - 4s 6ms/step - loss: 0.0238 - accuracy: 0.9955 - val_loss: 0.3837 - val_accuracy: 0.8782\n",
            "Epoch 9/10\n",
            "625/625 [==============================] - 4s 6ms/step - loss: 0.0143 - accuracy: 0.9977 - val_loss: 0.4167 - val_accuracy: 0.8742\n",
            "Epoch 10/10\n",
            "625/625 [==============================] - 5s 8ms/step - loss: 0.0086 - accuracy: 0.9988 - val_loss: 0.4303 - val_accuracy: 0.8778\n"
          ]
        }
      ],
      "source": [
        "# Train the model. We use a validation split to monitor the performance of the model on unseen data during training.\n",
        "history = model.fit(train_data, train_labels,\n",
        "                    epochs=10,\n",
        "                    batch_size=32,\n",
        "                    validation_split=0.2)"
      ]
    },
    {
      "cell_type": "markdown",
      "metadata": {
        "id": "aFv5yxt_n3J2"
      },
      "source": [
        "# Step 4: Evaluate the model"
      ]
    },
    {
      "cell_type": "markdown",
      "metadata": {
        "id": "WW_lxuFSn3J2"
      },
      "source": [
        "### Evaluation Metrics in Deep Learning\n",
        "\n",
        "Evaluation metrics are essential to understand how well a model performs on a given dataset. Different metrics provide different insights into the performance, and the choice of metric often depends on the nature of the task (classification, regression, etc.) and the specific goals of the model. Here, we'll focus on metrics commonly used in classification tasks, especially binary classification as in our IMDb movie review example.\n",
        "\n",
        "#### Common Evaluation Metrics for Classification\n",
        "\n",
        "1. **Accuracy**\n",
        "    - **Definition**: The ratio of correctly predicted instances to the total instances.\n",
        "    - **Formula**: \\(\\text{Accuracy} = \\frac{\\text{TP} + \\text{TN}}{\\text{TP} + \\text{TN} + \\text{FP} + \\text{FN}}\\)\n",
        "    - **When to Use**: Best for balanced datasets where the number of instances of each class is roughly equal.\n",
        "\n",
        "2. **Precision**\n",
        "    - **Definition**: The ratio of correctly predicted positive observations to the total predicted positives.\n",
        "    - **Formula**: \\(\\text{Precision} = \\frac{\\text{TP}}{\\text{TP} + \\text{FP}}\\)\n",
        "    - **When to Use**: Important when the cost of false positives is high.\n",
        "\n",
        "3. **Recall (Sensitivity or True Positive Rate)**\n",
        "    - **Definition**: The ratio of correctly predicted positive observations to the all observations in actual class.\n",
        "    - **Formula**: \\(\\text{Recall} = \\frac{\\text{TP}}{\\text{TP} + \\text{FN}}\\)\n",
        "    - **When to Use**: Important when the cost of false negatives is high.\n",
        "\n",
        "4. **F1 Score**\n",
        "    - **Definition**: The harmonic mean of precision and recall.\n",
        "    - **Formula**: \\(\\text{F1 Score} = 2 \\times \\frac{\\text{Precision} \\times \\text{Recall}}{\\text{Precision} + \\text{Recall}}\\)\n",
        "    - **When to Use**: Useful when the dataset is imbalanced and you want a balance between precision and recall.\n",
        "\n",
        "5. **AUC-ROC (Area Under the Receiver Operating Characteristic Curve)**\n",
        "    - **Definition**: Measures the ability of the model to distinguish between classes.\n",
        "    - **Interpretation**: An ROC curve is a plot of the true positive rate (recall) against the false positive rate. The AUC (area under the curve) represents the likelihood that the model will rank a randomly chosen positive instance higher than a randomly chosen negative one.\n",
        "    - **When to Use**: Good for imbalanced datasets; provides a single measure of overall performance.\n",
        "\n",
        "6. **Logarithmic Loss (Log Loss)**\n",
        "    - **Definition**: Measures the performance of a classification model where the prediction is a probability value between 0 and 1.\n",
        "    - **Formula**: \\(\\text{Log Loss} = -\\frac{1}{N} \\sum_{i=1}^{N} [y_i \\log(p_i) + (1 - y_i) \\log(1 - p_i)]\\)\n",
        "    - **When to Use**: Provides a probability-based metric, useful when you need to evaluate probabilistic predictions."
      ]
    },
    {
      "cell_type": "code",
      "execution_count": 10,
      "metadata": {
        "id": "UtbS0GIrn3J3"
      },
      "outputs": [],
      "source": [
        "# # In Keras, you can specify evaluation metrics when you compile the model.\n",
        "# # Keras supports a variety of built-in metrics and allows for custom metrics as well.\n",
        "\n",
        "# # TODO: Try to compile the model using the alternatives below.\n",
        "# # Option 1. Adding additional metrics (built-in)\n",
        "# model.compile(optimizer='rmsprop',\n",
        "#               loss='binary_crossentropy',\n",
        "#               metrics=['accuracy', 'Precision', 'Recall'])\n",
        "# # Option 2. Adding custom defined metric\n",
        "# from keras import backend as K\n",
        "\n",
        "# def f1_score(y_true, y_pred):\n",
        "#     def recall(y_true, y_pred):\n",
        "#         true_positives = K.sum(K.round(K.clip(y_true * y_pred, 0, 1)))\n",
        "#         possible_positives = K.sum(K.round(K.clip(y_true, 0, 1)))\n",
        "#         recall = true_positives / (possible_positives + K.epsilon())\n",
        "#         return recall\n",
        "\n",
        "#     def precision(y_true, y_pred):\n",
        "#         true_positives = K.sum(K.round(K.clip(y_true * y_pred, 0, 1)))\n",
        "#         predicted_positives = K.sum(K.round(K.clip(y_pred, 0, 1)))\n",
        "#         precision = true_positives / (predicted_positives + K.epsilon())\n",
        "#         return precision\n",
        "\n",
        "#     precision = precision(y_true, y_pred)\n",
        "#     recall = recall(y_true, y_pred)\n",
        "#     return 2 * ((precision * recall) / (precision + recall + K.epsilon()))\n",
        "\n",
        "# # Compile the model with the custom F1 score metric\n",
        "# model.compile(optimizer='rmsprop',\n",
        "#               loss='binary_crossentropy',\n",
        "#               metrics=['accuracy', f1_score])"
      ]
    },
    {
      "cell_type": "markdown",
      "metadata": {
        "id": "N01TBNc1n3J3"
      },
      "source": [
        "Here is a simple evaluation of the model on the train and test data. In practice you don't rely solely on the accuracy as it can be very misleading.  Instead, we use a combination of metrics and methods to evaluate the performance of the model on the test and train set. Once we are conviced that our model is performing well on seen and unseen data, we proceed to deploying it. If we notice and issues, we get back to one of the steps before and start again.  "
      ]
    },
    {
      "cell_type": "code",
      "execution_count": 11,
      "metadata": {
        "colab": {
          "base_uri": "https://localhost:8080/",
          "height": 927
        },
        "id": "CJlp9NHrn3J3",
        "outputId": "627166b2-b8b2-4c9e-ce7b-23b6695d161c"
      },
      "outputs": [
        {
          "data": {
            "image/png": "[encoded data removed]",
            "text/plain": [
              "<Figure size 640x480 with 1 Axes>"
            ]
          },
          "metadata": {},
          "output_type": "display_data"
        },
        {
          "data": {
            "image/png": "[encoded data removed]",
            "text/plain": [
              "<Figure size 640x480 with 1 Axes>"
            ]
          },
          "metadata": {},
          "output_type": "display_data"
        }
      ],
      "source": [
        "# Visualise the training history\n",
        "import matplotlib.pyplot as plt\n",
        "\n",
        "# Plot training and validation accuracy\n",
        "plt.plot(history.history['accuracy'], label='Training Accuracy')\n",
        "plt.plot(history.history['val_accuracy'], label='Validation Accuracy')\n",
        "plt.title('Training and Validation Accuracy')\n",
        "plt.xlabel('Epochs')\n",
        "plt.ylabel('Accuracy')\n",
        "plt.legend()\n",
        "plt.show()\n",
        "\n",
        "# Plot training and validation loss\n",
        "plt.plot(history.history['loss'], label='Training Loss')\n",
        "plt.plot(history.history['val_loss'], label='Validation Loss')\n",
        "plt.title('Training and Validation Loss')\n",
        "plt.xlabel('Epochs')\n",
        "plt.ylabel('Loss')\n",
        "plt.legend()\n",
        "plt.show()\n"
      ]
    },
    {
      "cell_type": "markdown",
      "metadata": {
        "id": "BuD6mKEGoy4v"
      },
      "source": [
        "### Interpreting History Curves\n",
        "\n",
        "The history curves are typically used to monitor the training and validation performance of a model over epochs. These curves can help you diagnose issues such as overfitting, underfitting, and convergence.\n",
        "\n",
        "1. **Training and Validation Accuracy Curves**:\n",
        "   - **Training Accuracy Curve**: Shows the accuracy of the model on the training data over epochs.\n",
        "   - **Validation Accuracy Curve**: Shows the accuracy of the model on the validation data over epochs.\n",
        "\n",
        "   **Interpretation**:\n",
        "   - **Increasing Training Accuracy**: Indicates that the model is learning from the training data.\n",
        "   - **Stable Validation Accuracy**: If the validation accuracy increases and then stabilizes, it suggests that the model is generalizing well to unseen data.\n",
        "   - **Diverging Curves**: If the training accuracy continues to increase while the validation accuracy plateaus or decreases, it suggests overfitting. The model is performing well on training data but not on validation data.\n",
        "\n",
        "2. **Training and Validation Loss Curves**:\n",
        "   - **Training Loss Curve**: Shows the loss of the model on the training data over epochs.\n",
        "   - **Validation Loss Curve**: Shows the loss of the model on the validation data over epochs.\n",
        "\n",
        "   **Interpretation**:\n",
        "   - **Decreasing Training Loss**: Indicates that the model is improving on the training data.\n",
        "   - **Stable Validation Loss**: If the validation loss decreases and then stabilizes, it suggests that the model is generalizing well.\n",
        "   - **Diverging Curves**: If the training loss continues to decrease while the validation loss stabilizes or increases, it suggests overfitting."
      ]
    },
    {
      "cell_type": "code",
      "execution_count": 12,
      "metadata": {
        "colab": {
          "base_uri": "https://localhost:8080/"
        },
        "id": "fwnaj8J0n3J3",
        "outputId": "87df9862-2521-4199-8716-424e1e49ddb0"
      },
      "outputs": [
        {
          "name": "stdout",
          "output_type": "stream",
          "text": [
            "782/782 [==============================] - 2s 2ms/step - loss: 0.0905 - accuracy: 0.9751\n",
            "Test Accuracy: 0.9751\n",
            "782/782 [==============================] - 2s 3ms/step - loss: 0.4306 - accuracy: 0.8686\n",
            "Test Accuracy: 0.8686\n"
          ]
        }
      ],
      "source": [
        "train_loss, train_acc = model.evaluate(train_data, train_labels)\n",
        "print(f'Test Accuracy: {train_acc:.4f}')\n",
        "\n",
        "test_loss, test_acc = model.evaluate(test_data, test_labels)\n",
        "print(f'Test Accuracy: {test_acc:.4f}')"
      ]
    },
    {
      "cell_type": "code",
      "execution_count": 13,
      "metadata": {
        "colab": {
          "base_uri": "https://localhost:8080/",
          "height": 635
        },
        "id": "89qDHPFbn3J4",
        "outputId": "f4517cea-f9da-40dc-9a2c-6e915cc0d7f7"
      },
      "outputs": [
        {
          "name": "stdout",
          "output_type": "stream",
          "text": [
            "782/782 [==============================] - 2s 2ms/step\n",
            "Confusion Matrix:\n",
            "[[10850  1650]\n",
            " [ 1634 10866]]\n"
          ]
        },
        {
          "data": {
            "image/png": "[encoded data removed]",
            "text/plain": [
              "<Figure size 800x600 with 2 Axes>"
            ]
          },
          "metadata": {},
          "output_type": "display_data"
        }
      ],
      "source": [
        "# For classification problems, it is usually useful and informative to look at the confusion matrix.\n",
        "# Below you can find an example of how to produce a confusion matrix.\n",
        "import numpy as np\n",
        "from sklearn.metrics import confusion_matrix\n",
        "import seaborn as sns\n",
        "import matplotlib.pyplot as plt\n",
        "\n",
        "# Make predictions on the test data\n",
        "predictions = model.predict(test_data)\n",
        "binary_predictions = np.where(predictions > 0.5, 1, 0)\n",
        "\n",
        "# Calculate the confusion matrix\n",
        "conf_matrix = confusion_matrix(test_labels, binary_predictions)\n",
        "\n",
        "# Print the confusion matrix\n",
        "print(\"Confusion Matrix:\")\n",
        "print(conf_matrix)\n",
        "\n",
        "# Plot the confusion matrix as a heatmap\n",
        "plt.figure(figsize=(8, 6))\n",
        "sns.heatmap(conf_matrix, annot=True, fmt='d', cmap='Blues',\n",
        "            xticklabels=['Predicted Negative', 'Predicted Positive'],\n",
        "            yticklabels=['Actual Negative', 'Actual Positive'])\n",
        "plt.xlabel('Prediction')\n",
        "plt.ylabel('Actual')\n",
        "plt.title('Confusion Matrix')\n",
        "plt.show()\n"
      ]
    },
    {
      "cell_type": "markdown",
      "metadata": {
        "id": "JU8HG3pmo55b"
      },
      "source": [
        "#### Confusion Matrix\n",
        "\n",
        "The confusion matrix provides a summary of the prediction results on the test data. Each cell in the matrix represents the count of predictions categorized as follows:\n",
        "\n",
        "|               | Predicted Positive | Predicted Negative |\n",
        "|---------------|--------------------|--------------------|\n",
        "| Actual Positive | True Positive (TP)  | False Negative (FN) |\n",
        "| Actual Negative | False Positive (FP) | True Negative (TN)  |\n",
        "\n",
        "**Interpretation**:\n",
        "\n",
        "1. **True Positives (TP)**: The number of positive instances correctly classified as positive.\n",
        "2. **True Negatives (TN)**: The number of negative instances correctly classified as negative.\n",
        "3. **False Positives (FP)**: The number of negative instances incorrectly classified as positive (Type I error).\n",
        "4. **False Negatives (FN)**: The number of positive instances incorrectly classified as negative (Type II error).\n",
        "\n",
        "From the confusion matrix, you can derive important performance metrics:\n",
        "\n",
        "- **Accuracy**: \\((TP + TN) / (TP + TN + FP + FN)\\)\n",
        "- **Precision**: \\(TP / (TP + FP)\\)\n",
        "- **Recall**: \\(TP / (TP + FN)\\)\n",
        "- **F1 Score**: \\(2 \\times \\frac{\\text{Precision} \\times \\text{Recall}}{\\text{Precision} + \\text{Recall}}\\)\n",
        "\n",
        "**Example Confusion Matrix Interpretation**:\n",
        "If your confusion matrix looks like this:\n",
        "\n",
        "|               | Predicted Positive | Predicted Negative |\n",
        "|---------------|--------------------|--------------------|\n",
        "| Actual Positive | 850                 | 150                 |\n",
        "| Actual Negative | 100                 | 900                 |\n",
        "\n",
        "- **True Positives (TP)**: 850\n",
        "- **True Negatives (TN)**: 900\n",
        "- **False Positives (FP)**: 100\n",
        "- **False Negatives (FN)**: 150\n",
        "\n",
        "From this, you can calculate:\n",
        "- **Accuracy**: \\((850 + 900) / (850 + 900 + 100 + 150) = 0.875\\)\n",
        "- **Precision**: \\(850 / (850 + 100) = 0.8947\\)\n",
        "- **Recall**: \\(850 / (850 + 150) = 0.85\\)\n",
        "- **F1 Score**: \\(2 \\times \\frac{0.8947 \\times 0.85}{0.8947 + 0.85} = 0.8719\\)\n",
        "\n",
        "These metrics will help you evaluate the overall performance of your model and identify areas for improvement."
      ]
    },
    {
      "cell_type": "code",
      "execution_count": 14,
      "metadata": {
        "colab": {
          "base_uri": "https://localhost:8080/"
        },
        "id": "qcGMqhrKn3J4",
        "outputId": "85b7ca94-a4c7-47cc-8d24-5a0155dee626"
      },
      "outputs": [
        {
          "name": "stdout",
          "output_type": "stream",
          "text": [
            "782/782 [==============================] - 1s 2ms/step\n",
            "Review: [   0    0    0    0    0    0    0    0    0    0    0    0    0    0\n",
            "    0    0    0    0    0    0    0    0    0    0    0    0    0    0\n",
            "    0    0    0    0    0    0    0    0    0    0    0    0    0    0\n",
            "    0    0    0    0    0    0    0    0    0    0    0    0    0    0\n",
            "    0    0    0    0    0    0    0    0    0    0    0    0    0    0\n",
            "    0    0    0    0    0    0    0    0    0    0    0    0    0    0\n",
            "    0    0    0    0    0    0    0    0    0    0    0    0    0    0\n",
            "    0    0    0    0    0    0    0    0    0    0    0    0    0    0\n",
            "    0    0    0    0    0    0    0    0    0    0    0    0    0    0\n",
            "    0    0    0    0    0    0    0    0    0    0    0    0    0    0\n",
            "    0    0    0    0    0    0    0    0    0    0    0    0    0    0\n",
            "    0    0    0    0    0    0    0    0    0    0    0    0    0    0\n",
            "    0    0    0    0    0    0    0    0    0    0    0    0    0    0\n",
            "    0    0    0    0    0    0    1  591  202   14   31    6  717   10\n",
            "   10    2    2    5    4  360    7    4  177 5760  394  354    4  123\n",
            "    9 1035 1035 1035   10   10   13   92  124   89  488 7944  100   28\n",
            " 1668   14   31   23   27 7479   29  220  468    8  124   14  286  170\n",
            "    8  157   46    5   27  239   16  179    2   38   32   25 7944  451\n",
            "  202   14    6  717]\n",
            "Predicted Sentiment: Negative\n",
            "True Sentiment: Negative\n",
            "\n",
            "Review: [   6  176    7 5063   88   12 2679   23 1310    5  109  943    4  114\n",
            "    9   55  606    5  111    7    4  139  193  273   23    4  172  270\n",
            "   11 7216    2    4 8463 2801  109 1603   21    4   22 3861    8    6\n",
            " 1193 1330   10   10    4  105  987   35  841    2   19  861 1074    5\n",
            " 1987    2   45   55  221   15  670 5304  526   14 1069    4  405    5\n",
            " 2438    7   27   85  108  131    4 5045 5304 3884  405    9 3523  133\n",
            "    5   50   13  104   51   66  166   14   22  157    9    4  530  239\n",
            "   34 8463 2801   45  407   31    7   41 3778  105   21   59  299   12\n",
            "   38  950    5 4521   15   45  629  488 2733  127    6   52  292   17\n",
            "    4 6936  185  132 1988 5304 1799  488 2693   47    6  392  173    4\n",
            "    2 4378  270 2352    4 1500    7    4   65   55   73   11  346   14\n",
            "   20    9    6  976 2078    7 5293  861    2    5 4182   30 3127    2\n",
            "   56    4  841    5  990  692    8    4 1669  398  229   10   10   13\n",
            " 2822  670 5304   14    9   31    7   27  111  108   15 2033   19 7836\n",
            " 1429  875  551   14   22    9 1193   21   45 4829    5   45  252    8\n",
            "    2    6  565  921 3639   39    4  529   48   25  181    8   67   35\n",
            " 1732   22   49  238   60  135 1162   14    9  290    4   58   10   10\n",
            "  472   45   55  878    8  169   11  374 5687   25  203   28    8  818\n",
            "   12  125    4 3077]\n",
            "Predicted Sentiment: Positive\n",
            "True Sentiment: Positive\n",
            "\n",
            "Review: [  57 4893    5 4659    6  275  711 7937    2 3292   98    6    2   10\n",
            "   10 6639   19   14    2  267  162  711   37 5900  752   98    4    2\n",
            " 2378   90   19    6    2    7    2 1810    2    4 4770 3183  930    8\n",
            "  508   90    4 1317    8    4    2   17    2 3965 1853    4 1494    8\n",
            " 4468  189    4    2 6287 5774    4 4770    5   95  271   23    6 7742\n",
            " 6063    2 5437   33 1526    6  425 3155    2 4535 1636    7    4 4669\n",
            "    2  469    4 4552   54    4  150 5664    2  280   53    2    2   18\n",
            "  339   29 1978   27 7885    5    2   68 1830   19 6571    2    4 1515\n",
            "    7  263   65 2132   34    6 5680 7489   43  159   29    9 4706    9\n",
            "  387   73  195  584   10   10 1069    4   58  810   54   14 6078  117\n",
            "   22   16   93    5 1069    4  192   15   12   16   93   34    6 1766\n",
            "    2   33    4 5673    7   15    2 9252 3286  325   12   62   30  776\n",
            "    8   67   14   17    6    2   44  148  687    2  203   42  203   24\n",
            "   28   69    2 6676   11  330   54   29   93    2   21  845    2   27\n",
            " 1099    7  819    4   22 1407   17    6    2  787    7 2460    2    2\n",
            "  100   30    4 3737 3617 3169 2321   42 1898   11    4 3814   42  101\n",
            "  704    7  101  999   15 1625   94 2926  180    5    9 9101   34    2\n",
            "   45    6 1429   22   60    6 1220   31   11   94 6408   96   21   94\n",
            "  749    9   57  975]\n",
            "Predicted Sentiment: Negative\n",
            "True Sentiment: Positive\n",
            "\n",
            "Review: [   0    0    0    0    0    0    0    0    0    0    0    0    0    0\n",
            "    0    0    0    0    0    0    0    0    0    0    0    0    0    0\n",
            "    0    0    0    0    0    0    0    0    0    0    0    0    0    0\n",
            "    0    0    0    0    0    0    0    0    0    0    0    0    0    0\n",
            "    0    0    0    0    0    0    0    0    0    0    0    0    0    0\n",
            "    0    0    0    0    0    1   13 1228  119   14  552    7   20  190\n",
            "   14   58   13  258  546 1786    8 1968    4  268  237   13  191   81\n",
            "   15   13   80   43 3824   44   12   14   16  427 3192    4  183   15\n",
            "  593   19    4  351  362   26   55  646   21    4 1239   84   26 1557\n",
            " 3755   13  244    6 2071  132  184  194    5   13   70 4478  546   73\n",
            "  190   13   62   24   81  320    4  538    4  117  250  127   11   14\n",
            "   20   82    4  452   11   14   20    9 8654   19   41  476    8    4\n",
            "  213    7 9185   13  657   13  286   38 1612   44   41    5   41 1729\n",
            "   88   13   62   28  900  510    4  509   51    6  612   59   16  193\n",
            "   61 4666    5  702  930  143  285   25   67   41   81  366    4  130\n",
            "   82    9  259  334  397 1195    7  149  102   15   26  814   38  465\n",
            " 1627   31   70  983   67   51    9  112  814   17   35  311   75   26\n",
            "    2  574   19    4 1729   23    4  268   38   95  138    4  609  191\n",
            "   75   28  314 1772]\n",
            "Predicted Sentiment: Negative\n",
            "True Sentiment: Negative\n",
            "\n",
            "Review: [   0    0    0    0    0    0    0    0    0    0    0    0    0    0\n",
            "    0    0    0    0    0    0    0    0    0    0    0    0    0    0\n",
            "    0    0    0    0    0    0    0    0    0    0    0    0    0    0\n",
            "    0    0    0    0    0    0    0    0    0    0    0    0    0    0\n",
            "    0    0    0    0    0    0    0    0    0    0    0    0    0    0\n",
            "    0    0    0    0    0    0    0    0    0    0    0    0    0    0\n",
            "    0    0    0    0    0    0    0    0    0    0    0    0    0    0\n",
            "    0    0    0    0    0    0    0    0    0    0    0    0    0    0\n",
            "    0    0    0    0    0    0    0    0    0    0    0    0    0    0\n",
            "    0    0    0    0    0    0    0    0    0    0    0    0    0    0\n",
            "    0    0    0    0    0    0    0    0    1   40   49   85   84 1040\n",
            "  146    6  783  254 4386  337    5   13  447   14  500   10   10   14\n",
            "  500  517 1076  357   21 1684   72   45  290   12   17  515   17   25\n",
            "  380  129 3305    4 2191   26  253    5    2   36   80 4357   25    2\n",
            "  129  330  505    8    2  146   24 3988   14  500    9   82    2    5\n",
            "    9 1293  224   10   10    8  401   14 1361  879   13   28    8  401\n",
            "   61 1642 2925   44 1373   21  591  353   14  500 4092   30  290   12\n",
            "   10   10   65  790  790  206  158  300   45   15   52    2  158  692\n",
            "    2  158  856  158]\n",
            "Predicted Sentiment: Positive\n",
            "True Sentiment: Positive\n",
            "\n"
          ]
        }
      ],
      "source": [
        "# If we are satisfied with the model results, we can proceed to make predictions with it.\n",
        "# Here you can see how to make predictions on the test data.\n",
        "predictions = model.predict(test_data)\n",
        "\n",
        "# Print a few predictions and their corresponding true labels\n",
        "for i in range(5):\n",
        "    print(f'Review: {test_data[i]}')\n",
        "    print(f'Predicted Sentiment: {\"Positive\" if predictions[i] > 0.5 else \"Negative\"}')\n",
        "    print(f'True Sentiment: {\"Positive\" if test_labels[i] == 1 else \"Negative\"}\\n')\n"
      ]
    },
    {
      "cell_type": "markdown",
      "metadata": {
        "id": "b1odWrfWn3J4"
      },
      "source": [
        "# Step 5: Deployment\n",
        "\n",
        "After we made sure that the model performs as expected on new and unseen data, we can proceed to taking our model into production. This step is out of scope for this course, so we will end by saving our model to a file."
      ]
    },
    {
      "cell_type": "code",
      "execution_count": 15,
      "metadata": {
        "colab": {
          "base_uri": "https://localhost:8080/"
        },
        "id": "ckGujPrKn3J4",
        "outputId": "dfd71987-ef19-4f8d-bb58-e24d5849b9ed"
      },
      "outputs": [
        {
          "name": "stdout",
          "output_type": "stream",
          "text": [
            "Model saved to disk.\n"
          ]
        },
        {
          "name": "stderr",
          "output_type": "stream",
          "text": [
            "/usr/local/lib/python3.10/dist-packages/keras/src/engine/training.py:3103: UserWarning: You are saving your model as an HDF5 file via `model.save()`. This file format is considered legacy. We recommend using instead the native Keras format, e.g. `model.save('my_model.keras')`.\n",
            "  saving_api.save_model(\n"
          ]
        }
      ],
      "source": [
        "# Save the entire model to a HDF5 file\n",
        "model.save('imdb_model.h5')\n",
        "print(\"Model saved to disk.\")\n"
      ]
    },
    {
      "cell_type": "code",
      "execution_count": 16,
      "metadata": {
        "id": "3_qvaVEZn3J4"
      },
      "outputs": [],
      "source": [
        "# # If you want to load a pretrained model, you can uncomment the code below.\n",
        "# from keras.models import load_model\n",
        "\n",
        "# # Load the model from the HDF5 file\n",
        "# loaded_model = load_model('imdb_model.h5')\n",
        "# print(\"Model loaded from disk.\")\n",
        "\n",
        "# # Evaluate the loaded model to confirm it's working\n",
        "# loaded_test_loss, loaded_test_acc = loaded_model.evaluate(test_data, test_labels)\n",
        "# print(f'Loaded Model Test Accuracy: {loaded_test_acc:.4f}')\n"
      ]
    },
    {
      "cell_type": "markdown",
      "metadata": {},
      "source": [
        "# Try it yourself\n",
        "\n",
        "1. Data Preparation: Modify the code to change the maximum length of the sequences from 256 to 128. What impact does this change have on the model’s performance?\n",
        "\n",
        "2. Model Architecture: Add a dropout layer between the embedding layer and the flatten layer. How does this affect the model's training and validation accuracy?\n",
        "\n",
        "3. Evaluation Metrics: Calculate and print the precision, recall, and F1 score for the model on the test data. What do these metrics tell you about the model's performance?\n",
        "Prediction Analysis:\n",
        "\n",
        "4. Choose 5 random reviews from the test set and compare the predicted sentiment with the actual sentiment. Are there any interesting observations?"
      ]
    },
    {
      "cell_type": "markdown",
      "metadata": {},
      "source": []
    }
  ],
  "metadata": {
    "colab": {
      "provenance": [],
      "toc_visible": true
    },
    "kernelspec": {
      "display_name": "base",
      "language": "python",
      "name": "python3"
    },
    "language_info": {
      "codemirror_mode": {
        "name": "ipython",
        "version": 3
      },
      "file_extension": ".py",
      "mimetype": "text/x-python",
      "name": "python",
      "nbconvert_exporter": "python",
      "pygments_lexer": "ipython3",
      "version": "3.9.18"
    }
  },
  "nbformat": 4,
  "nbformat_minor": 0
}
