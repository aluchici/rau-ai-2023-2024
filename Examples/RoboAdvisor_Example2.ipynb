{
  "nbformat": 4,
  "nbformat_minor": 0,
  "metadata": {
    "colab": {
      "provenance": []
    },
    "kernelspec": {
      "name": "python3",
      "display_name": "Python 3"
    },
    "language_info": {
      "name": "python"
    }
  },
  "cells": [
    {
      "cell_type": "markdown",
      "source": [
        "##Disclaimer\n",
        "\n",
        "The algorithms and strategies presented in this tutorial are for educational purposes only and are not intended to provide financial or trading advice. The performance of the models and strategies demonstrated herein is based on historical data and may not accurately predict future market behavior. Trading financial markets involves substantial risk and may not be suitable for all investors. You should consult with a qualified financial advisor before making any investment decisions. The authors and publishers of this tutorial are not responsible for any losses incurred as a result of using the information contained within."
      ],
      "metadata": {
        "id": "yJH9QMeAjQ3i"
      }
    },
    {
      "cell_type": "code",
      "execution_count": null,
      "metadata": {
        "id": "rnzZd8RFTdUW"
      },
      "outputs": [],
      "source": [
        "# Load dependencies\n",
        "import pandas as pd\n",
        "import numpy as np\n",
        "from tqdm import tqdm\n",
        "\n",
        "from sklearn import utils\n",
        "from sklearn.linear_model import LogisticRegression\n",
        "\n",
        "import re\n",
        "import seaborn as sns\n",
        "import matplotlib.pyplot as plt"
      ]
    },
    {
      "cell_type": "markdown",
      "source": [
        "## Load & clean data\n",
        "You can find the data published on Kaggle at https://www.kaggle.com/datasets/ankurzing/sentiment-analysis-for-financial-news?resource=download. According to the Kaggle authors, the dataset contains the sentiment for financial news headlines from the perspective of a retail investor.\n",
        "\n",
        "The original dataset can be found in *Malo, P., Sinha, A., Takala, P., Korhonen, P. and Wallenius, J. (2014): “Good debt or bad debt: Detecting semantic orientations in economic texts.” Journal of the American Society for Information Science and Technology.*"
      ],
      "metadata": {
        "id": "8bNU32MCX31B"
      }
    },
    {
      "cell_type": "markdown",
      "source": [
        "You can also find a copy of the raw data here: https://drive.google.com/file/d/1JbIqZds_k6SJm66vJFn5vnuB8MI0noFc/view?usp=sharing\n",
        "\n",
        "Load the file you downloaded (SentimentAnalysis_Kaggle.csv) into Session storage."
      ],
      "metadata": {
        "id": "gQzQZ-4-l18N"
      }
    },
    {
      "cell_type": "code",
      "source": [
        "df = pd.read_csv(\"SentimentAnalysis_Kaggle.csv\", delimiter=\",\", encoding=\"latin-1\")\n",
        "df.head()"
      ],
      "metadata": {
        "colab": {
          "base_uri": "https://localhost:8080/",
          "height": 206
        },
        "id": "0ps6qfoJTzw8",
        "outputId": "f8a1f46a-6e98-48b9-ad08-af4753ab6bf1"
      },
      "execution_count": null,
      "outputs": [
        {
          "output_type": "execute_result",
          "data": {
            "text/plain": [
              "    neutral  \\\n",
              "0   neutral   \n",
              "1  negative   \n",
              "2  positive   \n",
              "3  positive   \n",
              "4  positive   \n",
              "\n",
              "  According to Gran , the company has no plans to move all production to Russia , although that is where the company is growing .  \n",
              "0  Technopolis plans to develop in stages an area...                                                                               \n",
              "1  The international electronic industry company ...                                                                               \n",
              "2  With the new production plant the company woul...                                                                               \n",
              "3  According to the company 's updated strategy f...                                                                               \n",
              "4  FINANCING OF ASPOCOMP 'S GROWTH Aspocomp is ag...                                                                               "
            ],
            "text/html": [
              "\n",
              "  <div id=\"df-3b48d54a-a02b-4e9f-af47-bb15606b3610\" class=\"colab-df-container\">\n",
              "    <div>\n",
              "<style scoped>\n",
              "    .dataframe tbody tr th:only-of-type {\n",
              "        vertical-align: middle;\n",
              "    }\n",
              "\n",
              "    .dataframe tbody tr th {\n",
              "        vertical-align: top;\n",
              "    }\n",
              "\n",
              "    .dataframe thead th {\n",
              "        text-align: right;\n",
              "    }\n",
              "</style>\n",
              "<table border=\"1\" class=\"dataframe\">\n",
              "  <thead>\n",
              "    <tr style=\"text-align: right;\">\n",
              "      <th></th>\n",
              "      <th>neutral</th>\n",
              "      <th>According to Gran , the company has no plans to move all production to Russia , although that is where the company is growing .</th>\n",
              "    </tr>\n",
              "  </thead>\n",
              "  <tbody>\n",
              "    <tr>\n",
              "      <th>0</th>\n",
              "      <td>neutral</td>\n",
              "      <td>Technopolis plans to develop in stages an area...</td>\n",
              "    </tr>\n",
              "    <tr>\n",
              "      <th>1</th>\n",
              "      <td>negative</td>\n",
              "      <td>The international electronic industry company ...</td>\n",
              "    </tr>\n",
              "    <tr>\n",
              "      <th>2</th>\n",
              "      <td>positive</td>\n",
              "      <td>With the new production plant the company woul...</td>\n",
              "    </tr>\n",
              "    <tr>\n",
              "      <th>3</th>\n",
              "      <td>positive</td>\n",
              "      <td>According to the company 's updated strategy f...</td>\n",
              "    </tr>\n",
              "    <tr>\n",
              "      <th>4</th>\n",
              "      <td>positive</td>\n",
              "      <td>FINANCING OF ASPOCOMP 'S GROWTH Aspocomp is ag...</td>\n",
              "    </tr>\n",
              "  </tbody>\n",
              "</table>\n",
              "</div>\n",
              "    <div class=\"colab-df-buttons\">\n",
              "\n",
              "  <div class=\"colab-df-container\">\n",
              "    <button class=\"colab-df-convert\" onclick=\"convertToInteractive('df-3b48d54a-a02b-4e9f-af47-bb15606b3610')\"\n",
              "            title=\"Convert this dataframe to an interactive table.\"\n",
              "            style=\"display:none;\">\n",
              "\n",
              "  <svg xmlns=\"http://www.w3.org/2000/svg\" height=\"24px\" viewBox=\"0 -960 960 960\">\n",
              "    <path d=\"M120-120v-720h720v720H120Zm60-500h600v-160H180v160Zm220 220h160v-160H400v160Zm0 220h160v-160H400v160ZM180-400h160v-160H180v160Zm440 0h160v-160H620v160ZM180-180h160v-160H180v160Zm440 0h160v-160H620v160Z\"/>\n",
              "  </svg>\n",
              "    </button>\n",
              "\n",
              "  <style>\n",
              "    .colab-df-container {\n",
              "      display:flex;\n",
              "      gap: 12px;\n",
              "    }\n",
              "\n",
              "    .colab-df-convert {\n",
              "      background-color: #E8F0FE;\n",
              "      border: none;\n",
              "      border-radius: 50%;\n",
              "      cursor: pointer;\n",
              "      display: none;\n",
              "      fill: #1967D2;\n",
              "      height: 32px;\n",
              "      padding: 0 0 0 0;\n",
              "      width: 32px;\n",
              "    }\n",
              "\n",
              "    .colab-df-convert:hover {\n",
              "      background-color: #E2EBFA;\n",
              "      box-shadow: 0px 1px 2px rgba(60, 64, 67, 0.3), 0px 1px 3px 1px rgba(60, 64, 67, 0.15);\n",
              "      fill: #174EA6;\n",
              "    }\n",
              "\n",
              "    .colab-df-buttons div {\n",
              "      margin-bottom: 4px;\n",
              "    }\n",
              "\n",
              "    [theme=dark] .colab-df-convert {\n",
              "      background-color: #3B4455;\n",
              "      fill: #D2E3FC;\n",
              "    }\n",
              "\n",
              "    [theme=dark] .colab-df-convert:hover {\n",
              "      background-color: #434B5C;\n",
              "      box-shadow: 0px 1px 3px 1px rgba(0, 0, 0, 0.15);\n",
              "      filter: drop-shadow(0px 1px 2px rgba(0, 0, 0, 0.3));\n",
              "      fill: #FFFFFF;\n",
              "    }\n",
              "  </style>\n",
              "\n",
              "    <script>\n",
              "      const buttonEl =\n",
              "        document.querySelector('#df-3b48d54a-a02b-4e9f-af47-bb15606b3610 button.colab-df-convert');\n",
              "      buttonEl.style.display =\n",
              "        google.colab.kernel.accessAllowed ? 'block' : 'none';\n",
              "\n",
              "      async function convertToInteractive(key) {\n",
              "        const element = document.querySelector('#df-3b48d54a-a02b-4e9f-af47-bb15606b3610');\n",
              "        const dataTable =\n",
              "          await google.colab.kernel.invokeFunction('convertToInteractive',\n",
              "                                                    [key], {});\n",
              "        if (!dataTable) return;\n",
              "\n",
              "        const docLinkHtml = 'Like what you see? Visit the ' +\n",
              "          '<a target=\"_blank\" href=https://colab.research.google.com/notebooks/data_table.ipynb>data table notebook</a>'\n",
              "          + ' to learn more about interactive tables.';\n",
              "        element.innerHTML = '';\n",
              "        dataTable['output_type'] = 'display_data';\n",
              "        await google.colab.output.renderOutput(dataTable, element);\n",
              "        const docLink = document.createElement('div');\n",
              "        docLink.innerHTML = docLinkHtml;\n",
              "        element.appendChild(docLink);\n",
              "      }\n",
              "    </script>\n",
              "  </div>\n",
              "\n",
              "\n",
              "<div id=\"df-bbf324ff-9a3b-4db7-be6e-c7052426066f\">\n",
              "  <button class=\"colab-df-quickchart\" onclick=\"quickchart('df-bbf324ff-9a3b-4db7-be6e-c7052426066f')\"\n",
              "            title=\"Suggest charts\"\n",
              "            style=\"display:none;\">\n",
              "\n",
              "<svg xmlns=\"http://www.w3.org/2000/svg\" height=\"24px\"viewBox=\"0 0 24 24\"\n",
              "     width=\"24px\">\n",
              "    <g>\n",
              "        <path d=\"M19 3H5c-1.1 0-2 .9-2 2v14c0 1.1.9 2 2 2h14c1.1 0 2-.9 2-2V5c0-1.1-.9-2-2-2zM9 17H7v-7h2v7zm4 0h-2V7h2v10zm4 0h-2v-4h2v4z\"/>\n",
              "    </g>\n",
              "</svg>\n",
              "  </button>\n",
              "\n",
              "<style>\n",
              "  .colab-df-quickchart {\n",
              "      --bg-color: #E8F0FE;\n",
              "      --fill-color: #1967D2;\n",
              "      --hover-bg-color: #E2EBFA;\n",
              "      --hover-fill-color: #174EA6;\n",
              "      --disabled-fill-color: #AAA;\n",
              "      --disabled-bg-color: #DDD;\n",
              "  }\n",
              "\n",
              "  [theme=dark] .colab-df-quickchart {\n",
              "      --bg-color: #3B4455;\n",
              "      --fill-color: #D2E3FC;\n",
              "      --hover-bg-color: #434B5C;\n",
              "      --hover-fill-color: #FFFFFF;\n",
              "      --disabled-bg-color: #3B4455;\n",
              "      --disabled-fill-color: #666;\n",
              "  }\n",
              "\n",
              "  .colab-df-quickchart {\n",
              "    background-color: var(--bg-color);\n",
              "    border: none;\n",
              "    border-radius: 50%;\n",
              "    cursor: pointer;\n",
              "    display: none;\n",
              "    fill: var(--fill-color);\n",
              "    height: 32px;\n",
              "    padding: 0;\n",
              "    width: 32px;\n",
              "  }\n",
              "\n",
              "  .colab-df-quickchart:hover {\n",
              "    background-color: var(--hover-bg-color);\n",
              "    box-shadow: 0 1px 2px rgba(60, 64, 67, 0.3), 0 1px 3px 1px rgba(60, 64, 67, 0.15);\n",
              "    fill: var(--button-hover-fill-color);\n",
              "  }\n",
              "\n",
              "  .colab-df-quickchart-complete:disabled,\n",
              "  .colab-df-quickchart-complete:disabled:hover {\n",
              "    background-color: var(--disabled-bg-color);\n",
              "    fill: var(--disabled-fill-color);\n",
              "    box-shadow: none;\n",
              "  }\n",
              "\n",
              "  .colab-df-spinner {\n",
              "    border: 2px solid var(--fill-color);\n",
              "    border-color: transparent;\n",
              "    border-bottom-color: var(--fill-color);\n",
              "    animation:\n",
              "      spin 1s steps(1) infinite;\n",
              "  }\n",
              "\n",
              "  @keyframes spin {\n",
              "    0% {\n",
              "      border-color: transparent;\n",
              "      border-bottom-color: var(--fill-color);\n",
              "      border-left-color: var(--fill-color);\n",
              "    }\n",
              "    20% {\n",
              "      border-color: transparent;\n",
              "      border-left-color: var(--fill-color);\n",
              "      border-top-color: var(--fill-color);\n",
              "    }\n",
              "    30% {\n",
              "      border-color: transparent;\n",
              "      border-left-color: var(--fill-color);\n",
              "      border-top-color: var(--fill-color);\n",
              "      border-right-color: var(--fill-color);\n",
              "    }\n",
              "    40% {\n",
              "      border-color: transparent;\n",
              "      border-right-color: var(--fill-color);\n",
              "      border-top-color: var(--fill-color);\n",
              "    }\n",
              "    60% {\n",
              "      border-color: transparent;\n",
              "      border-right-color: var(--fill-color);\n",
              "    }\n",
              "    80% {\n",
              "      border-color: transparent;\n",
              "      border-right-color: var(--fill-color);\n",
              "      border-bottom-color: var(--fill-color);\n",
              "    }\n",
              "    90% {\n",
              "      border-color: transparent;\n",
              "      border-bottom-color: var(--fill-color);\n",
              "    }\n",
              "  }\n",
              "</style>\n",
              "\n",
              "  <script>\n",
              "    async function quickchart(key) {\n",
              "      const quickchartButtonEl =\n",
              "        document.querySelector('#' + key + ' button');\n",
              "      quickchartButtonEl.disabled = true;  // To prevent multiple clicks.\n",
              "      quickchartButtonEl.classList.add('colab-df-spinner');\n",
              "      try {\n",
              "        const charts = await google.colab.kernel.invokeFunction(\n",
              "            'suggestCharts', [key], {});\n",
              "      } catch (error) {\n",
              "        console.error('Error during call to suggestCharts:', error);\n",
              "      }\n",
              "      quickchartButtonEl.classList.remove('colab-df-spinner');\n",
              "      quickchartButtonEl.classList.add('colab-df-quickchart-complete');\n",
              "    }\n",
              "    (() => {\n",
              "      let quickchartButtonEl =\n",
              "        document.querySelector('#df-bbf324ff-9a3b-4db7-be6e-c7052426066f button');\n",
              "      quickchartButtonEl.style.display =\n",
              "        google.colab.kernel.accessAllowed ? 'block' : 'none';\n",
              "    })();\n",
              "  </script>\n",
              "</div>\n",
              "    </div>\n",
              "  </div>\n"
            ],
            "application/vnd.google.colaboratory.intrinsic+json": {
              "type": "dataframe",
              "variable_name": "df",
              "summary": "{\n  \"name\": \"df\",\n  \"rows\": 4845,\n  \"fields\": [\n    {\n      \"column\": \"neutral\",\n      \"properties\": {\n        \"dtype\": \"category\",\n        \"num_unique_values\": 3,\n        \"samples\": [\n          \"neutral\",\n          \"negative\",\n          \"positive\"\n        ],\n        \"semantic_type\": \"\",\n        \"description\": \"\"\n      }\n    },\n    {\n      \"column\": \"According to Gran , the company has no plans to move all production to Russia , although that is where the company is growing .\",\n      \"properties\": {\n        \"dtype\": \"string\",\n        \"num_unique_values\": 4837,\n        \"samples\": [\n          \"The company serves customers in various industries , including process and resources , industrial machinery , architecture , building , construction , electrical , transportation , electronics , chemical , petrochemical , energy , and information technology , as well as catering and households .\",\n          \"Only L+\\u00c6nnen Tehtaat showed a loss , but it has only recently started streamlining measures .\",\n          \"The extracted filtrates are very high in clarity while the dried filter cakes meet required transport moisture limits (TMLs)for their ore grades .\"\n        ],\n        \"semantic_type\": \"\",\n        \"description\": \"\"\n      }\n    }\n  ]\n}"
            }
          },
          "metadata": {},
          "execution_count": 164
        }
      ]
    },
    {
      "cell_type": "code",
      "source": [
        "# Rename the columns as the CSV doesn't appear to have the name of the columns specified correctly\n",
        "df = df.rename(columns={'neutral':'sentiment',\n",
        "                        'According to Gran , the company has no plans to move all production to Russia , although that is where the company is growing .':'message'})"
      ],
      "metadata": {
        "id": "i83wToLhUzz3"
      },
      "execution_count": null,
      "outputs": []
    },
    {
      "cell_type": "code",
      "source": [
        "df.head()"
      ],
      "metadata": {
        "colab": {
          "base_uri": "https://localhost:8080/",
          "height": 206
        },
        "id": "-xqXlz_7MvDe",
        "outputId": "24b3d865-6e87-4cad-f77d-7bed12954bd4"
      },
      "execution_count": null,
      "outputs": [
        {
          "output_type": "execute_result",
          "data": {
            "text/plain": [
              "  sentiment                                            message\n",
              "0   neutral  Technopolis plans to develop in stages an area...\n",
              "1  negative  The international electronic industry company ...\n",
              "2  positive  With the new production plant the company woul...\n",
              "3  positive  According to the company 's updated strategy f...\n",
              "4  positive  FINANCING OF ASPOCOMP 'S GROWTH Aspocomp is ag..."
            ],
            "text/html": [
              "\n",
              "  <div id=\"df-ce26dc23-e296-466f-899f-1151274d4852\" class=\"colab-df-container\">\n",
              "    <div>\n",
              "<style scoped>\n",
              "    .dataframe tbody tr th:only-of-type {\n",
              "        vertical-align: middle;\n",
              "    }\n",
              "\n",
              "    .dataframe tbody tr th {\n",
              "        vertical-align: top;\n",
              "    }\n",
              "\n",
              "    .dataframe thead th {\n",
              "        text-align: right;\n",
              "    }\n",
              "</style>\n",
              "<table border=\"1\" class=\"dataframe\">\n",
              "  <thead>\n",
              "    <tr style=\"text-align: right;\">\n",
              "      <th></th>\n",
              "      <th>sentiment</th>\n",
              "      <th>message</th>\n",
              "    </tr>\n",
              "  </thead>\n",
              "  <tbody>\n",
              "    <tr>\n",
              "      <th>0</th>\n",
              "      <td>neutral</td>\n",
              "      <td>Technopolis plans to develop in stages an area...</td>\n",
              "    </tr>\n",
              "    <tr>\n",
              "      <th>1</th>\n",
              "      <td>negative</td>\n",
              "      <td>The international electronic industry company ...</td>\n",
              "    </tr>\n",
              "    <tr>\n",
              "      <th>2</th>\n",
              "      <td>positive</td>\n",
              "      <td>With the new production plant the company woul...</td>\n",
              "    </tr>\n",
              "    <tr>\n",
              "      <th>3</th>\n",
              "      <td>positive</td>\n",
              "      <td>According to the company 's updated strategy f...</td>\n",
              "    </tr>\n",
              "    <tr>\n",
              "      <th>4</th>\n",
              "      <td>positive</td>\n",
              "      <td>FINANCING OF ASPOCOMP 'S GROWTH Aspocomp is ag...</td>\n",
              "    </tr>\n",
              "  </tbody>\n",
              "</table>\n",
              "</div>\n",
              "    <div class=\"colab-df-buttons\">\n",
              "\n",
              "  <div class=\"colab-df-container\">\n",
              "    <button class=\"colab-df-convert\" onclick=\"convertToInteractive('df-ce26dc23-e296-466f-899f-1151274d4852')\"\n",
              "            title=\"Convert this dataframe to an interactive table.\"\n",
              "            style=\"display:none;\">\n",
              "\n",
              "  <svg xmlns=\"http://www.w3.org/2000/svg\" height=\"24px\" viewBox=\"0 -960 960 960\">\n",
              "    <path d=\"M120-120v-720h720v720H120Zm60-500h600v-160H180v160Zm220 220h160v-160H400v160Zm0 220h160v-160H400v160ZM180-400h160v-160H180v160Zm440 0h160v-160H620v160ZM180-180h160v-160H180v160Zm440 0h160v-160H620v160Z\"/>\n",
              "  </svg>\n",
              "    </button>\n",
              "\n",
              "  <style>\n",
              "    .colab-df-container {\n",
              "      display:flex;\n",
              "      gap: 12px;\n",
              "    }\n",
              "\n",
              "    .colab-df-convert {\n",
              "      background-color: #E8F0FE;\n",
              "      border: none;\n",
              "      border-radius: 50%;\n",
              "      cursor: pointer;\n",
              "      display: none;\n",
              "      fill: #1967D2;\n",
              "      height: 32px;\n",
              "      padding: 0 0 0 0;\n",
              "      width: 32px;\n",
              "    }\n",
              "\n",
              "    .colab-df-convert:hover {\n",
              "      background-color: #E2EBFA;\n",
              "      box-shadow: 0px 1px 2px rgba(60, 64, 67, 0.3), 0px 1px 3px 1px rgba(60, 64, 67, 0.15);\n",
              "      fill: #174EA6;\n",
              "    }\n",
              "\n",
              "    .colab-df-buttons div {\n",
              "      margin-bottom: 4px;\n",
              "    }\n",
              "\n",
              "    [theme=dark] .colab-df-convert {\n",
              "      background-color: #3B4455;\n",
              "      fill: #D2E3FC;\n",
              "    }\n",
              "\n",
              "    [theme=dark] .colab-df-convert:hover {\n",
              "      background-color: #434B5C;\n",
              "      box-shadow: 0px 1px 3px 1px rgba(0, 0, 0, 0.15);\n",
              "      filter: drop-shadow(0px 1px 2px rgba(0, 0, 0, 0.3));\n",
              "      fill: #FFFFFF;\n",
              "    }\n",
              "  </style>\n",
              "\n",
              "    <script>\n",
              "      const buttonEl =\n",
              "        document.querySelector('#df-ce26dc23-e296-466f-899f-1151274d4852 button.colab-df-convert');\n",
              "      buttonEl.style.display =\n",
              "        google.colab.kernel.accessAllowed ? 'block' : 'none';\n",
              "\n",
              "      async function convertToInteractive(key) {\n",
              "        const element = document.querySelector('#df-ce26dc23-e296-466f-899f-1151274d4852');\n",
              "        const dataTable =\n",
              "          await google.colab.kernel.invokeFunction('convertToInteractive',\n",
              "                                                    [key], {});\n",
              "        if (!dataTable) return;\n",
              "\n",
              "        const docLinkHtml = 'Like what you see? Visit the ' +\n",
              "          '<a target=\"_blank\" href=https://colab.research.google.com/notebooks/data_table.ipynb>data table notebook</a>'\n",
              "          + ' to learn more about interactive tables.';\n",
              "        element.innerHTML = '';\n",
              "        dataTable['output_type'] = 'display_data';\n",
              "        await google.colab.output.renderOutput(dataTable, element);\n",
              "        const docLink = document.createElement('div');\n",
              "        docLink.innerHTML = docLinkHtml;\n",
              "        element.appendChild(docLink);\n",
              "      }\n",
              "    </script>\n",
              "  </div>\n",
              "\n",
              "\n",
              "<div id=\"df-1c28016f-3b3b-4b8a-ae64-1ace0ff0db57\">\n",
              "  <button class=\"colab-df-quickchart\" onclick=\"quickchart('df-1c28016f-3b3b-4b8a-ae64-1ace0ff0db57')\"\n",
              "            title=\"Suggest charts\"\n",
              "            style=\"display:none;\">\n",
              "\n",
              "<svg xmlns=\"http://www.w3.org/2000/svg\" height=\"24px\"viewBox=\"0 0 24 24\"\n",
              "     width=\"24px\">\n",
              "    <g>\n",
              "        <path d=\"M19 3H5c-1.1 0-2 .9-2 2v14c0 1.1.9 2 2 2h14c1.1 0 2-.9 2-2V5c0-1.1-.9-2-2-2zM9 17H7v-7h2v7zm4 0h-2V7h2v10zm4 0h-2v-4h2v4z\"/>\n",
              "    </g>\n",
              "</svg>\n",
              "  </button>\n",
              "\n",
              "<style>\n",
              "  .colab-df-quickchart {\n",
              "      --bg-color: #E8F0FE;\n",
              "      --fill-color: #1967D2;\n",
              "      --hover-bg-color: #E2EBFA;\n",
              "      --hover-fill-color: #174EA6;\n",
              "      --disabled-fill-color: #AAA;\n",
              "      --disabled-bg-color: #DDD;\n",
              "  }\n",
              "\n",
              "  [theme=dark] .colab-df-quickchart {\n",
              "      --bg-color: #3B4455;\n",
              "      --fill-color: #D2E3FC;\n",
              "      --hover-bg-color: #434B5C;\n",
              "      --hover-fill-color: #FFFFFF;\n",
              "      --disabled-bg-color: #3B4455;\n",
              "      --disabled-fill-color: #666;\n",
              "  }\n",
              "\n",
              "  .colab-df-quickchart {\n",
              "    background-color: var(--bg-color);\n",
              "    border: none;\n",
              "    border-radius: 50%;\n",
              "    cursor: pointer;\n",
              "    display: none;\n",
              "    fill: var(--fill-color);\n",
              "    height: 32px;\n",
              "    padding: 0;\n",
              "    width: 32px;\n",
              "  }\n",
              "\n",
              "  .colab-df-quickchart:hover {\n",
              "    background-color: var(--hover-bg-color);\n",
              "    box-shadow: 0 1px 2px rgba(60, 64, 67, 0.3), 0 1px 3px 1px rgba(60, 64, 67, 0.15);\n",
              "    fill: var(--button-hover-fill-color);\n",
              "  }\n",
              "\n",
              "  .colab-df-quickchart-complete:disabled,\n",
              "  .colab-df-quickchart-complete:disabled:hover {\n",
              "    background-color: var(--disabled-bg-color);\n",
              "    fill: var(--disabled-fill-color);\n",
              "    box-shadow: none;\n",
              "  }\n",
              "\n",
              "  .colab-df-spinner {\n",
              "    border: 2px solid var(--fill-color);\n",
              "    border-color: transparent;\n",
              "    border-bottom-color: var(--fill-color);\n",
              "    animation:\n",
              "      spin 1s steps(1) infinite;\n",
              "  }\n",
              "\n",
              "  @keyframes spin {\n",
              "    0% {\n",
              "      border-color: transparent;\n",
              "      border-bottom-color: var(--fill-color);\n",
              "      border-left-color: var(--fill-color);\n",
              "    }\n",
              "    20% {\n",
              "      border-color: transparent;\n",
              "      border-left-color: var(--fill-color);\n",
              "      border-top-color: var(--fill-color);\n",
              "    }\n",
              "    30% {\n",
              "      border-color: transparent;\n",
              "      border-left-color: var(--fill-color);\n",
              "      border-top-color: var(--fill-color);\n",
              "      border-right-color: var(--fill-color);\n",
              "    }\n",
              "    40% {\n",
              "      border-color: transparent;\n",
              "      border-right-color: var(--fill-color);\n",
              "      border-top-color: var(--fill-color);\n",
              "    }\n",
              "    60% {\n",
              "      border-color: transparent;\n",
              "      border-right-color: var(--fill-color);\n",
              "    }\n",
              "    80% {\n",
              "      border-color: transparent;\n",
              "      border-right-color: var(--fill-color);\n",
              "      border-bottom-color: var(--fill-color);\n",
              "    }\n",
              "    90% {\n",
              "      border-color: transparent;\n",
              "      border-bottom-color: var(--fill-color);\n",
              "    }\n",
              "  }\n",
              "</style>\n",
              "\n",
              "  <script>\n",
              "    async function quickchart(key) {\n",
              "      const quickchartButtonEl =\n",
              "        document.querySelector('#' + key + ' button');\n",
              "      quickchartButtonEl.disabled = true;  // To prevent multiple clicks.\n",
              "      quickchartButtonEl.classList.add('colab-df-spinner');\n",
              "      try {\n",
              "        const charts = await google.colab.kernel.invokeFunction(\n",
              "            'suggestCharts', [key], {});\n",
              "      } catch (error) {\n",
              "        console.error('Error during call to suggestCharts:', error);\n",
              "      }\n",
              "      quickchartButtonEl.classList.remove('colab-df-spinner');\n",
              "      quickchartButtonEl.classList.add('colab-df-quickchart-complete');\n",
              "    }\n",
              "    (() => {\n",
              "      let quickchartButtonEl =\n",
              "        document.querySelector('#df-1c28016f-3b3b-4b8a-ae64-1ace0ff0db57 button');\n",
              "      quickchartButtonEl.style.display =\n",
              "        google.colab.kernel.accessAllowed ? 'block' : 'none';\n",
              "    })();\n",
              "  </script>\n",
              "</div>\n",
              "    </div>\n",
              "  </div>\n"
            ],
            "application/vnd.google.colaboratory.intrinsic+json": {
              "type": "dataframe",
              "variable_name": "df",
              "summary": "{\n  \"name\": \"df\",\n  \"rows\": 4845,\n  \"fields\": [\n    {\n      \"column\": \"sentiment\",\n      \"properties\": {\n        \"dtype\": \"category\",\n        \"num_unique_values\": 3,\n        \"samples\": [\n          \"neutral\",\n          \"negative\",\n          \"positive\"\n        ],\n        \"semantic_type\": \"\",\n        \"description\": \"\"\n      }\n    },\n    {\n      \"column\": \"message\",\n      \"properties\": {\n        \"dtype\": \"string\",\n        \"num_unique_values\": 4837,\n        \"samples\": [\n          \"The company serves customers in various industries , including process and resources , industrial machinery , architecture , building , construction , electrical , transportation , electronics , chemical , petrochemical , energy , and information technology , as well as catering and households .\",\n          \"Only L+\\u00c6nnen Tehtaat showed a loss , but it has only recently started streamlining measures .\",\n          \"The extracted filtrates are very high in clarity while the dried filter cakes meet required transport moisture limits (TMLs)for their ore grades .\"\n        ],\n        \"semantic_type\": \"\",\n        \"description\": \"\"\n      }\n    }\n  ]\n}"
            }
          },
          "metadata": {},
          "execution_count": 166
        }
      ]
    },
    {
      "cell_type": "code",
      "source": [
        "# Investigate the distributions of sentiment values. i.e. check if we have an equal number of objects in each class.\n",
        "count_sentiment_instances = df['sentiment'].value_counts()\n",
        "plt.figure(figsize=(12,4))\n",
        "sns.barplot(x=count_sentiment_instances.index, y=count_sentiment_instances.values, alpha=0.8)\n",
        "plt.ylabel('Number of Occurrences', fontsize=12)\n",
        "plt.xlabel('sentiment', fontsize=12)\n",
        "plt.xticks(rotation=90)\n",
        "plt.show();"
      ],
      "metadata": {
        "colab": {
          "base_uri": "https://localhost:8080/",
          "height": 442
        },
        "id": "7zIoTGU1VPNe",
        "outputId": "984046f4-0491-4d8c-b4ff-1142576fc954"
      },
      "execution_count": null,
      "outputs": [
        {
          "output_type": "display_data",
          "data": {
            "text/plain": [
              "<Figure size 1200x400 with 1 Axes>"
            ],
            "image/png": "[encoded data removed]"
          },
          "metadata": {}
        }
      ]
    },
    {
      "cell_type": "markdown",
      "source": [
        "Observe how we mostly have neutral sentiment news. More, the least frequent news are news with negative sentiments."
      ],
      "metadata": {
        "id": "N_DOjNdhPSkk"
      }
    },
    {
      "cell_type": "code",
      "source": [
        "# Encode the sting values of the sentiment as numeric in a new column called \"label\"\n",
        "sentiment  = {'positive': 0,'neutral': 1,'negative':2}\n",
        "\n",
        "df[\"label\"] = [sentiment[item] for item in df[\"sentiment\"]]\n",
        "df.head()"
      ],
      "metadata": {
        "id": "4L2FRnPOVVQi",
        "colab": {
          "base_uri": "https://localhost:8080/",
          "height": 206
        },
        "outputId": "7d780bab-cf17-4a8c-bafa-aa6ab4a82595"
      },
      "execution_count": null,
      "outputs": [
        {
          "output_type": "execute_result",
          "data": {
            "text/plain": [
              "  sentiment                                            message  label\n",
              "0   neutral  Technopolis plans to develop in stages an area...      1\n",
              "1  negative  The international electronic industry company ...      2\n",
              "2  positive  With the new production plant the company woul...      0\n",
              "3  positive  According to the company 's updated strategy f...      0\n",
              "4  positive  FINANCING OF ASPOCOMP 'S GROWTH Aspocomp is ag...      0"
            ],
            "text/html": [
              "\n",
              "  <div id=\"df-936af5d3-a01f-4760-bd32-ac353dd4bd08\" class=\"colab-df-container\">\n",
              "    <div>\n",
              "<style scoped>\n",
              "    .dataframe tbody tr th:only-of-type {\n",
              "        vertical-align: middle;\n",
              "    }\n",
              "\n",
              "    .dataframe tbody tr th {\n",
              "        vertical-align: top;\n",
              "    }\n",
              "\n",
              "    .dataframe thead th {\n",
              "        text-align: right;\n",
              "    }\n",
              "</style>\n",
              "<table border=\"1\" class=\"dataframe\">\n",
              "  <thead>\n",
              "    <tr style=\"text-align: right;\">\n",
              "      <th></th>\n",
              "      <th>sentiment</th>\n",
              "      <th>message</th>\n",
              "      <th>label</th>\n",
              "    </tr>\n",
              "  </thead>\n",
              "  <tbody>\n",
              "    <tr>\n",
              "      <th>0</th>\n",
              "      <td>neutral</td>\n",
              "      <td>Technopolis plans to develop in stages an area...</td>\n",
              "      <td>1</td>\n",
              "    </tr>\n",
              "    <tr>\n",
              "      <th>1</th>\n",
              "      <td>negative</td>\n",
              "      <td>The international electronic industry company ...</td>\n",
              "      <td>2</td>\n",
              "    </tr>\n",
              "    <tr>\n",
              "      <th>2</th>\n",
              "      <td>positive</td>\n",
              "      <td>With the new production plant the company woul...</td>\n",
              "      <td>0</td>\n",
              "    </tr>\n",
              "    <tr>\n",
              "      <th>3</th>\n",
              "      <td>positive</td>\n",
              "      <td>According to the company 's updated strategy f...</td>\n",
              "      <td>0</td>\n",
              "    </tr>\n",
              "    <tr>\n",
              "      <th>4</th>\n",
              "      <td>positive</td>\n",
              "      <td>FINANCING OF ASPOCOMP 'S GROWTH Aspocomp is ag...</td>\n",
              "      <td>0</td>\n",
              "    </tr>\n",
              "  </tbody>\n",
              "</table>\n",
              "</div>\n",
              "    <div class=\"colab-df-buttons\">\n",
              "\n",
              "  <div class=\"colab-df-container\">\n",
              "    <button class=\"colab-df-convert\" onclick=\"convertToInteractive('df-936af5d3-a01f-4760-bd32-ac353dd4bd08')\"\n",
              "            title=\"Convert this dataframe to an interactive table.\"\n",
              "            style=\"display:none;\">\n",
              "\n",
              "  <svg xmlns=\"http://www.w3.org/2000/svg\" height=\"24px\" viewBox=\"0 -960 960 960\">\n",
              "    <path d=\"M120-120v-720h720v720H120Zm60-500h600v-160H180v160Zm220 220h160v-160H400v160Zm0 220h160v-160H400v160ZM180-400h160v-160H180v160Zm440 0h160v-160H620v160ZM180-180h160v-160H180v160Zm440 0h160v-160H620v160Z\"/>\n",
              "  </svg>\n",
              "    </button>\n",
              "\n",
              "  <style>\n",
              "    .colab-df-container {\n",
              "      display:flex;\n",
              "      gap: 12px;\n",
              "    }\n",
              "\n",
              "    .colab-df-convert {\n",
              "      background-color: #E8F0FE;\n",
              "      border: none;\n",
              "      border-radius: 50%;\n",
              "      cursor: pointer;\n",
              "      display: none;\n",
              "      fill: #1967D2;\n",
              "      height: 32px;\n",
              "      padding: 0 0 0 0;\n",
              "      width: 32px;\n",
              "    }\n",
              "\n",
              "    .colab-df-convert:hover {\n",
              "      background-color: #E2EBFA;\n",
              "      box-shadow: 0px 1px 2px rgba(60, 64, 67, 0.3), 0px 1px 3px 1px rgba(60, 64, 67, 0.15);\n",
              "      fill: #174EA6;\n",
              "    }\n",
              "\n",
              "    .colab-df-buttons div {\n",
              "      margin-bottom: 4px;\n",
              "    }\n",
              "\n",
              "    [theme=dark] .colab-df-convert {\n",
              "      background-color: #3B4455;\n",
              "      fill: #D2E3FC;\n",
              "    }\n",
              "\n",
              "    [theme=dark] .colab-df-convert:hover {\n",
              "      background-color: #434B5C;\n",
              "      box-shadow: 0px 1px 3px 1px rgba(0, 0, 0, 0.15);\n",
              "      filter: drop-shadow(0px 1px 2px rgba(0, 0, 0, 0.3));\n",
              "      fill: #FFFFFF;\n",
              "    }\n",
              "  </style>\n",
              "\n",
              "    <script>\n",
              "      const buttonEl =\n",
              "        document.querySelector('#df-936af5d3-a01f-4760-bd32-ac353dd4bd08 button.colab-df-convert');\n",
              "      buttonEl.style.display =\n",
              "        google.colab.kernel.accessAllowed ? 'block' : 'none';\n",
              "\n",
              "      async function convertToInteractive(key) {\n",
              "        const element = document.querySelector('#df-936af5d3-a01f-4760-bd32-ac353dd4bd08');\n",
              "        const dataTable =\n",
              "          await google.colab.kernel.invokeFunction('convertToInteractive',\n",
              "                                                    [key], {});\n",
              "        if (!dataTable) return;\n",
              "\n",
              "        const docLinkHtml = 'Like what you see? Visit the ' +\n",
              "          '<a target=\"_blank\" href=https://colab.research.google.com/notebooks/data_table.ipynb>data table notebook</a>'\n",
              "          + ' to learn more about interactive tables.';\n",
              "        element.innerHTML = '';\n",
              "        dataTable['output_type'] = 'display_data';\n",
              "        await google.colab.output.renderOutput(dataTable, element);\n",
              "        const docLink = document.createElement('div');\n",
              "        docLink.innerHTML = docLinkHtml;\n",
              "        element.appendChild(docLink);\n",
              "      }\n",
              "    </script>\n",
              "  </div>\n",
              "\n",
              "\n",
              "<div id=\"df-a1af1488-18ba-4b7b-97e5-993b46784b6a\">\n",
              "  <button class=\"colab-df-quickchart\" onclick=\"quickchart('df-a1af1488-18ba-4b7b-97e5-993b46784b6a')\"\n",
              "            title=\"Suggest charts\"\n",
              "            style=\"display:none;\">\n",
              "\n",
              "<svg xmlns=\"http://www.w3.org/2000/svg\" height=\"24px\"viewBox=\"0 0 24 24\"\n",
              "     width=\"24px\">\n",
              "    <g>\n",
              "        <path d=\"M19 3H5c-1.1 0-2 .9-2 2v14c0 1.1.9 2 2 2h14c1.1 0 2-.9 2-2V5c0-1.1-.9-2-2-2zM9 17H7v-7h2v7zm4 0h-2V7h2v10zm4 0h-2v-4h2v4z\"/>\n",
              "    </g>\n",
              "</svg>\n",
              "  </button>\n",
              "\n",
              "<style>\n",
              "  .colab-df-quickchart {\n",
              "      --bg-color: #E8F0FE;\n",
              "      --fill-color: #1967D2;\n",
              "      --hover-bg-color: #E2EBFA;\n",
              "      --hover-fill-color: #174EA6;\n",
              "      --disabled-fill-color: #AAA;\n",
              "      --disabled-bg-color: #DDD;\n",
              "  }\n",
              "\n",
              "  [theme=dark] .colab-df-quickchart {\n",
              "      --bg-color: #3B4455;\n",
              "      --fill-color: #D2E3FC;\n",
              "      --hover-bg-color: #434B5C;\n",
              "      --hover-fill-color: #FFFFFF;\n",
              "      --disabled-bg-color: #3B4455;\n",
              "      --disabled-fill-color: #666;\n",
              "  }\n",
              "\n",
              "  .colab-df-quickchart {\n",
              "    background-color: var(--bg-color);\n",
              "    border: none;\n",
              "    border-radius: 50%;\n",
              "    cursor: pointer;\n",
              "    display: none;\n",
              "    fill: var(--fill-color);\n",
              "    height: 32px;\n",
              "    padding: 0;\n",
              "    width: 32px;\n",
              "  }\n",
              "\n",
              "  .colab-df-quickchart:hover {\n",
              "    background-color: var(--hover-bg-color);\n",
              "    box-shadow: 0 1px 2px rgba(60, 64, 67, 0.3), 0 1px 3px 1px rgba(60, 64, 67, 0.15);\n",
              "    fill: var(--button-hover-fill-color);\n",
              "  }\n",
              "\n",
              "  .colab-df-quickchart-complete:disabled,\n",
              "  .colab-df-quickchart-complete:disabled:hover {\n",
              "    background-color: var(--disabled-bg-color);\n",
              "    fill: var(--disabled-fill-color);\n",
              "    box-shadow: none;\n",
              "  }\n",
              "\n",
              "  .colab-df-spinner {\n",
              "    border: 2px solid var(--fill-color);\n",
              "    border-color: transparent;\n",
              "    border-bottom-color: var(--fill-color);\n",
              "    animation:\n",
              "      spin 1s steps(1) infinite;\n",
              "  }\n",
              "\n",
              "  @keyframes spin {\n",
              "    0% {\n",
              "      border-color: transparent;\n",
              "      border-bottom-color: var(--fill-color);\n",
              "      border-left-color: var(--fill-color);\n",
              "    }\n",
              "    20% {\n",
              "      border-color: transparent;\n",
              "      border-left-color: var(--fill-color);\n",
              "      border-top-color: var(--fill-color);\n",
              "    }\n",
              "    30% {\n",
              "      border-color: transparent;\n",
              "      border-left-color: var(--fill-color);\n",
              "      border-top-color: var(--fill-color);\n",
              "      border-right-color: var(--fill-color);\n",
              "    }\n",
              "    40% {\n",
              "      border-color: transparent;\n",
              "      border-right-color: var(--fill-color);\n",
              "      border-top-color: var(--fill-color);\n",
              "    }\n",
              "    60% {\n",
              "      border-color: transparent;\n",
              "      border-right-color: var(--fill-color);\n",
              "    }\n",
              "    80% {\n",
              "      border-color: transparent;\n",
              "      border-right-color: var(--fill-color);\n",
              "      border-bottom-color: var(--fill-color);\n",
              "    }\n",
              "    90% {\n",
              "      border-color: transparent;\n",
              "      border-bottom-color: var(--fill-color);\n",
              "    }\n",
              "  }\n",
              "</style>\n",
              "\n",
              "  <script>\n",
              "    async function quickchart(key) {\n",
              "      const quickchartButtonEl =\n",
              "        document.querySelector('#' + key + ' button');\n",
              "      quickchartButtonEl.disabled = true;  // To prevent multiple clicks.\n",
              "      quickchartButtonEl.classList.add('colab-df-spinner');\n",
              "      try {\n",
              "        const charts = await google.colab.kernel.invokeFunction(\n",
              "            'suggestCharts', [key], {});\n",
              "      } catch (error) {\n",
              "        console.error('Error during call to suggestCharts:', error);\n",
              "      }\n",
              "      quickchartButtonEl.classList.remove('colab-df-spinner');\n",
              "      quickchartButtonEl.classList.add('colab-df-quickchart-complete');\n",
              "    }\n",
              "    (() => {\n",
              "      let quickchartButtonEl =\n",
              "        document.querySelector('#df-a1af1488-18ba-4b7b-97e5-993b46784b6a button');\n",
              "      quickchartButtonEl.style.display =\n",
              "        google.colab.kernel.accessAllowed ? 'block' : 'none';\n",
              "    })();\n",
              "  </script>\n",
              "</div>\n",
              "    </div>\n",
              "  </div>\n"
            ],
            "application/vnd.google.colaboratory.intrinsic+json": {
              "type": "dataframe",
              "variable_name": "df",
              "summary": "{\n  \"name\": \"df\",\n  \"rows\": 4845,\n  \"fields\": [\n    {\n      \"column\": \"sentiment\",\n      \"properties\": {\n        \"dtype\": \"category\",\n        \"num_unique_values\": 3,\n        \"samples\": [\n          \"neutral\",\n          \"negative\",\n          \"positive\"\n        ],\n        \"semantic_type\": \"\",\n        \"description\": \"\"\n      }\n    },\n    {\n      \"column\": \"message\",\n      \"properties\": {\n        \"dtype\": \"string\",\n        \"num_unique_values\": 4837,\n        \"samples\": [\n          \"The company serves customers in various industries , including process and resources , industrial machinery , architecture , building , construction , electrical , transportation , electronics , chemical , petrochemical , energy , and information technology , as well as catering and households .\",\n          \"Only L+\\u00c6nnen Tehtaat showed a loss , but it has only recently started streamlining measures .\",\n          \"The extracted filtrates are very high in clarity while the dried filter cakes meet required transport moisture limits (TMLs)for their ore grades .\"\n        ],\n        \"semantic_type\": \"\",\n        \"description\": \"\"\n      }\n    },\n    {\n      \"column\": \"label\",\n      \"properties\": {\n        \"dtype\": \"number\",\n        \"std\": 0,\n        \"min\": 0,\n        \"max\": 2,\n        \"num_unique_values\": 3,\n        \"samples\": [\n          1,\n          2,\n          0\n        ],\n        \"semantic_type\": \"\",\n        \"description\": \"\"\n      }\n    }\n  ]\n}"
            }
          },
          "metadata": {},
          "execution_count": 168
        }
      ]
    },
    {
      "cell_type": "code",
      "source": [
        "# Define a helper function that will find a specific entry in the dataset (based\n",
        "# on it's index) and then display the text and sentiment for that entry.\n",
        "def print_message(index):\n",
        "    example = df[df.index == index][['message', 'sentiment']].values[0]\n",
        "    if len(example) > 0:\n",
        "        print(example[0])\n",
        "        print('Message:', example[1])\n",
        "\n",
        "print(\"--- Example usage ---\")\n",
        "print_message(12)"
      ],
      "metadata": {
        "id": "064PR_f8VXi-",
        "colab": {
          "base_uri": "https://localhost:8080/"
        },
        "outputId": "479fb536-3205-494e-d7bf-571ba581f747"
      },
      "execution_count": null,
      "outputs": [
        {
          "output_type": "stream",
          "name": "stdout",
          "text": [
            "--- Example usage ---\n",
            "Finnish Talentum reports its operating profit increased to EUR 20.5 mn in 2005 from EUR 9.3 mn in 2004 , and net sales totaled EUR 103.3 mn , up from EUR 96.4 mn .\n",
            "Message: positive\n"
          ]
        }
      ]
    },
    {
      "cell_type": "code",
      "source": [
        "# Remove any unwanted characters from the text. Usually texts coming from the\n",
        "# internet have all sorts of characters inside. We always need to preprocess them\n",
        "# to ensure they are clean as per our needs.\n",
        "from bs4 import BeautifulSoup\n",
        "def remove_unwanted_characters(text):\n",
        "    text = BeautifulSoup(text, \"lxml\").text\n",
        "    text = re.sub(r'\\|\\|\\|', r' ', text)\n",
        "    text = re.sub(r'http\\S+', r'<URL>', text)\n",
        "    text = text.lower()\n",
        "    text = text.replace('x', '')\n",
        "    return text\n",
        "df['message'] = df['message'].apply(remove_unwanted_characters)"
      ],
      "metadata": {
        "id": "vlsvv4DaVa-F",
        "colab": {
          "base_uri": "https://localhost:8080/"
        },
        "outputId": "e7eb987f-777c-444e-b0a9-c589bfdb5ffd"
      },
      "execution_count": null,
      "outputs": [
        {
          "output_type": "stream",
          "name": "stderr",
          "text": [
            "<ipython-input-169-23a43444d435>:6: MarkupResemblesLocatorWarning: The input looks more like a filename than markup. You may want to open this file and pass the filehandle into Beautiful Soup.\n",
            "  text = BeautifulSoup(text, \"lxml\").text\n"
          ]
        }
      ]
    },
    {
      "cell_type": "markdown",
      "source": [
        "##Build a model\n",
        "\n",
        "Develop and train a model to map a processed text to a sentiment value (positive, negative, or netural)."
      ],
      "metadata": {
        "id": "Ow-jXx-7QuIV"
      }
    },
    {
      "cell_type": "code",
      "source": [
        "# Split the data into two sets. One set (train) is used for training the\n",
        "# classifier to distinguish between sentiments. The other set (test) is used to\n",
        "# determine how well does the classifier perform on unseen data (i.e. how well\n",
        "# it generalises)\n",
        "from sklearn.model_selection import train_test_split\n",
        "train, test = train_test_split(df, test_size=0.000001 , random_state=42)"
      ],
      "metadata": {
        "id": "BQOsdovoVc0j"
      },
      "execution_count": null,
      "outputs": []
    },
    {
      "cell_type": "code",
      "source": [
        "# Convert the raw text into a sequence of numbers using the nltk package, gensim\n",
        "# doc2vec, and keras.\n",
        "\n",
        "import nltk\n",
        "nltk.download('punkt')\n",
        "\n",
        "from nltk.corpus import stopwords\n",
        "from keras.preprocessing.text import Tokenizer\n",
        "tqdm.pandas(desc=\"progress-bar\")\n",
        "from gensim.models import Doc2Vec\n",
        "import gensim\n",
        "from gensim.models.doc2vec import TaggedDocument\n",
        "\n",
        "def tokenize_text(text):\n",
        "    tokens = []\n",
        "    for sent in nltk.sent_tokenize(text):\n",
        "        for word in nltk.word_tokenize(sent):\n",
        "            if len(word) <= 0:\n",
        "                continue\n",
        "            tokens.append(word.lower())\n",
        "    return tokens\n",
        "\n",
        "train_tagged = train.apply(\n",
        "    lambda r: TaggedDocument(words=tokenize_text(r['message']),\n",
        "                             tags=[r[\"sentiment\"]]), axis=1)"
      ],
      "metadata": {
        "colab": {
          "base_uri": "https://localhost:8080/"
        },
        "id": "Mmwuw7jERToq",
        "outputId": "23cd0a69-0dd1-4ba0-d98f-06a959b443d0"
      },
      "execution_count": null,
      "outputs": [
        {
          "output_type": "stream",
          "name": "stderr",
          "text": [
            "[nltk_data] Downloading package punkt to /root/nltk_data...\n",
            "[nltk_data]   Package punkt is already up-to-date!\n"
          ]
        }
      ]
    },
    {
      "cell_type": "code",
      "source": [
        "# Develop a document to vector model to embedd the tokenized texts into\n",
        "# multidimensional vectors. These embeddings are later used to develop the\n",
        "# sentiment classifiers.\n",
        "d2v_model = Doc2Vec(dm=1, dm_mean=1, vector_size=20, window=8, min_count=1,\n",
        "                    workers=1, alpha=0.065, min_alpha=0.065)\n",
        "\n",
        "# Use training texts to build the model vocabulary\n",
        "d2v_model.build_vocab([x for x in tqdm(train_tagged.values)])"
      ],
      "metadata": {
        "id": "Qm1OqiC4VlEj",
        "colab": {
          "base_uri": "https://localhost:8080/"
        },
        "outputId": "4a04bcff-5ead-411c-8853-0b348db6941f"
      },
      "execution_count": null,
      "outputs": [
        {
          "output_type": "stream",
          "name": "stderr",
          "text": [
            "100%|██████████| 4844/4844 [00:00<00:00, 727172.82it/s]\n"
          ]
        }
      ]
    },
    {
      "cell_type": "code",
      "source": [
        "# Train the embeddings using the available training data\n",
        "%%time\n",
        "for epoch in range(30):\n",
        "    d2v_model.train(utils.shuffle([x for x in tqdm(train_tagged.values)]),\n",
        "                    total_examples=len(train_tagged.values), epochs=1)\n",
        "    d2v_model.alpha -= 0.002\n",
        "    d2v_model.min_alpha = d2v_model.alpha"
      ],
      "metadata": {
        "id": "0kkLy2AMVloC",
        "colab": {
          "base_uri": "https://localhost:8080/"
        },
        "outputId": "e3ae88f4-afcb-4741-cd88-cd356384f466"
      },
      "execution_count": null,
      "outputs": [
        {
          "output_type": "stream",
          "name": "stderr",
          "text": [
            "100%|██████████| 4844/4844 [00:00<00:00, 971975.72it/s]\n",
            "100%|██████████| 4844/4844 [00:00<00:00, 1553303.41it/s]\n",
            "100%|██████████| 4844/4844 [00:00<00:00, 1565994.19it/s]\n",
            "100%|██████████| 4844/4844 [00:00<00:00, 1839327.23it/s]\n",
            "100%|██████████| 4844/4844 [00:00<00:00, 1776756.32it/s]\n",
            "100%|██████████| 4844/4844 [00:00<00:00, 1866361.25it/s]\n",
            "100%|██████████| 4844/4844 [00:00<00:00, 1013377.65it/s]\n",
            "100%|██████████| 4844/4844 [00:00<00:00, 941221.56it/s]\n",
            "100%|██████████| 4844/4844 [00:00<00:00, 1295492.48it/s]\n",
            "100%|██████████| 4844/4844 [00:00<00:00, 1776290.31it/s]\n",
            "100%|██████████| 4844/4844 [00:00<00:00, 1827415.77it/s]\n",
            "100%|██████████| 4844/4844 [00:00<00:00, 1746965.48it/s]\n",
            "100%|██████████| 4844/4844 [00:00<00:00, 1201490.75it/s]\n",
            "100%|██████████| 4844/4844 [00:00<00:00, 1864135.11it/s]\n",
            "100%|██████████| 4844/4844 [00:00<00:00, 1016877.31it/s]\n",
            "100%|██████████| 4844/4844 [00:00<00:00, 1114982.36it/s]\n",
            "100%|██████████| 4844/4844 [00:00<00:00, 2095853.99it/s]\n",
            "100%|██████████| 4844/4844 [00:00<00:00, 1262095.20it/s]\n",
            "100%|██████████| 4844/4844 [00:00<00:00, 1717866.63it/s]\n",
            "100%|██████████| 4844/4844 [00:00<00:00, 1330966.82it/s]\n",
            "100%|██████████| 4844/4844 [00:00<00:00, 1883839.46it/s]\n",
            "100%|██████████| 4844/4844 [00:00<00:00, 771901.09it/s]\n",
            "100%|██████████| 4844/4844 [00:00<00:00, 1866875.73it/s]\n",
            "100%|██████████| 4844/4844 [00:00<00:00, 1183779.56it/s]\n",
            "100%|██████████| 4844/4844 [00:00<00:00, 1267923.65it/s]\n",
            "100%|██████████| 4844/4844 [00:00<00:00, 696892.66it/s]\n",
            "100%|██████████| 4844/4844 [00:00<00:00, 642786.91it/s]\n",
            "100%|██████████| 4844/4844 [00:00<00:00, 1012973.45it/s]\n",
            "100%|██████████| 4844/4844 [00:00<00:00, 844369.07it/s]\n",
            "100%|██████████| 4844/4844 [00:00<00:00, 1207704.25it/s]\n"
          ]
        },
        {
          "output_type": "stream",
          "name": "stdout",
          "text": [
            "CPU times: user 14.2 s, sys: 107 ms, total: 14.3 s\n",
            "Wall time: 15.5 s\n"
          ]
        }
      ]
    },
    {
      "cell_type": "code",
      "source": [
        "d2v_model.wv.most_similar(positive=['profit'], topn=10)"
      ],
      "metadata": {
        "id": "F5_TOLgtVsIC",
        "colab": {
          "base_uri": "https://localhost:8080/"
        },
        "outputId": "dcc4d067-b1a0-4323-fbb8-c0964ce6590b"
      },
      "execution_count": null,
      "outputs": [
        {
          "output_type": "execute_result",
          "data": {
            "text/plain": [
              "[('loss', 0.8923762440681458),\n",
              " ('profits', 0.8125098347663879),\n",
              " ('income', 0.7607591152191162),\n",
              " ('bill', 0.7528855204582214),\n",
              " ('suspend', 0.7524800300598145),\n",
              " ('sales', 0.7458061575889587),\n",
              " ('petition', 0.7315126657485962),\n",
              " ('withdrawn', 0.7073655724525452),\n",
              " ('limit', 0.7065842747688293),\n",
              " ('result', 0.7055516839027405)]"
            ]
          },
          "metadata": {},
          "execution_count": 142
        }
      ]
    },
    {
      "cell_type": "code",
      "source": [
        "d2v_model.wv.most_similar(positive=['investment'], topn=10)"
      ],
      "metadata": {
        "id": "pzKFY9iVVuL9",
        "colab": {
          "base_uri": "https://localhost:8080/"
        },
        "outputId": "5fec7178-2de9-4fd5-dabe-b561a644bcba"
      },
      "execution_count": null,
      "outputs": [
        {
          "output_type": "execute_result",
          "data": {
            "text/plain": [
              "[('syndicated', 0.8279459476470947),\n",
              " ('detailing', 0.8058988451957703),\n",
              " ('hardest', 0.7549338936805725),\n",
              " ('grievance', 0.7470617294311523),\n",
              " ('municipality', 0.7327448129653931),\n",
              " ('organization', 0.7228282690048218),\n",
              " ('fund', 0.714743971824646),\n",
              " ('eur150m', 0.7128603458404541),\n",
              " ('foreign', 0.7102416157722473),\n",
              " ('placed', 0.7087095975875854)]"
            ]
          },
          "metadata": {},
          "execution_count": 143
        }
      ]
    },
    {
      "cell_type": "code",
      "source": [
        "d2v_model.wv.most_similar(positive=['broke'], topn=10)"
      ],
      "metadata": {
        "id": "cuSobikYVwNM",
        "colab": {
          "base_uri": "https://localhost:8080/"
        },
        "outputId": "4d9cc06a-fd88-471d-a147-b69782112969"
      },
      "execution_count": null,
      "outputs": [
        {
          "output_type": "execute_result",
          "data": {
            "text/plain": [
              "[('mold', 0.9749249219894409),\n",
              " ('breakfast', 0.8834859132766724),\n",
              " ('aboavista', 0.878757119178772),\n",
              " ('cereals', 0.8781835436820984),\n",
              " ('gather', 0.877431333065033),\n",
              " ('580', 0.8699619770050049),\n",
              " ('www.icis.com', 0.8644804954528809),\n",
              " ('macro-economic', 0.8624515533447266),\n",
              " ('brockpahler', 0.8601660132408142),\n",
              " ('143.9', 0.8562218546867371)]"
            ]
          },
          "metadata": {},
          "execution_count": 144
        }
      ]
    },
    {
      "cell_type": "markdown",
      "source": [
        "### Develop an LSTM model"
      ],
      "metadata": {
        "id": "47VVOcymVJWi"
      }
    },
    {
      "cell_type": "code",
      "source": [
        "from keras.preprocessing.sequence import pad_sequences\n",
        "\n",
        "# The maximum number of words to be used. (most frequent)\n",
        "max_features = 500000\n",
        "\n",
        "# Max number of words in each text.\n",
        "max_sequence_length = 100\n",
        "\n",
        "# Create a tokenizer that uses at most 50 words and filters unwanted characters.\n",
        "tokenizer = Tokenizer(num_words=max_features, split=' ',\n",
        "                      filters='!\"#$%&()*+,-./:;<=>?@[\\]^_`{|}~', lower=True)\n",
        "\n",
        "# Fit the tokenizer on the training data\n",
        "tokenizer.fit_on_texts(df['message'].values)\n",
        "\n",
        "# Convert texts according to the tokenizer and pad sequences\n",
        "X = tokenizer.texts_to_sequences(df['message'].values)\n",
        "X = pad_sequences(X, maxlen=max_sequence_length)\n",
        "\n",
        "print('Found %s unique tokens.' % len(X))\n",
        "print('Shape of data tensor:', X.shape)"
      ],
      "metadata": {
        "colab": {
          "base_uri": "https://localhost:8080/"
        },
        "id": "67Hj8eXBY0R1",
        "outputId": "c70fb49c-d9fe-4277-fc6d-43d80efbfbfe"
      },
      "execution_count": null,
      "outputs": [
        {
          "output_type": "stream",
          "name": "stdout",
          "text": [
            "Found 4845 unique tokens.\n",
            "Shape of data tensor: (4845, 100)\n"
          ]
        }
      ]
    },
    {
      "cell_type": "code",
      "source": [
        "# Save the vectors in a new matrix\n",
        "embedding_dim = 20\n",
        "vocab_size = min(max_features, len(tokenizer.word_index)) + 1\n",
        "embedding_matrix = np.zeros((vocab_size, embedding_dim))\n",
        "\n",
        "for i, vec in enumerate(d2v_model.dv.vectors):\n",
        "    if i < vocab_size:\n",
        "        embedding_matrix[i] = vec"
      ],
      "metadata": {
        "id": "INVl_9wlh5dO"
      },
      "execution_count": null,
      "outputs": []
    },
    {
      "cell_type": "code",
      "source": [
        "import tensorflow as tf\n",
        "from keras.models import Sequential\n",
        "from keras.layers import LSTM, Dense, Embedding\n",
        "\n",
        "\n",
        "# init layer\n",
        "model = Sequential()\n",
        "\n",
        "# emmbed word vectors\n",
        "model.add(Embedding(input_dim=len(tokenizer.word_index) + 1,\n",
        "                    output_dim=20,\n",
        "                    input_length=X.shape[1],\n",
        "                    weights=[embedding_matrix],\n",
        "                    trainable=True))\n",
        "\n",
        "# learn the correlations\n",
        "def split_input(sequence):\n",
        "     return sequence[:-1], tf.reshape(sequence[1:], (-1,1))\n",
        "model.add(LSTM(50,return_sequences=False))\n",
        "model.add(Dense(3,activation=\"softmax\"))\n",
        "\n",
        "# output model skeleton\n",
        "model.summary()\n",
        "model.compile(optimizer=\"adam\",loss=\"binary_crossentropy\",metrics=['acc'])"
      ],
      "metadata": {
        "id": "uTRHHEhEV5C-",
        "colab": {
          "base_uri": "https://localhost:8080/"
        },
        "outputId": "a51459d0-9a1b-4ef0-9a16-c8e734b7d170"
      },
      "execution_count": null,
      "outputs": [
        {
          "output_type": "stream",
          "name": "stdout",
          "text": [
            "Model: \"sequential_12\"\n",
            "_________________________________________________________________\n",
            " Layer (type)                Output Shape              Param #   \n",
            "=================================================================\n",
            " embedding_9 (Embedding)     (None, 100, 20)           202160    \n",
            "                                                                 \n",
            " lstm_7 (LSTM)               (None, 50)                14200     \n",
            "                                                                 \n",
            " dense_7 (Dense)             (None, 3)                 153       \n",
            "                                                                 \n",
            "=================================================================\n",
            "Total params: 216513 (845.75 KB)\n",
            "Trainable params: 216513 (845.75 KB)\n",
            "Non-trainable params: 0 (0.00 Byte)\n",
            "_________________________________________________________________\n"
          ]
        }
      ]
    },
    {
      "cell_type": "code",
      "source": [
        "# Split the data into training and test datasets (15% of the data is used to\n",
        "# test the model performance on unseen data)\n",
        "y = pd.get_dummies(df['sentiment']).values.astype(int)\n",
        "X_train, X_test, y_train, y_test = train_test_split(X, y, test_size = 0.15,\n",
        "                                                    random_state = 42)\n",
        "print(X_train.shape, y_train.shape)\n",
        "print(X_test.shape, y_test.shape)"
      ],
      "metadata": {
        "id": "4GfqgJkYV_uQ",
        "colab": {
          "base_uri": "https://localhost:8080/"
        },
        "outputId": "cdf0b9f5-9d98-4c1f-f565-da8131c7f949"
      },
      "execution_count": null,
      "outputs": [
        {
          "output_type": "stream",
          "name": "stdout",
          "text": [
            "(4118, 100) (4118, 3)\n",
            "(727, 100) (727, 3)\n"
          ]
        }
      ]
    },
    {
      "cell_type": "code",
      "source": [
        "batch_size = 32\n",
        "history = model.fit(X_train, y_train,\n",
        "                    epochs = 50, batch_size=batch_size, verbose = 2)"
      ],
      "metadata": {
        "id": "4BVEJFQBWDo1",
        "colab": {
          "base_uri": "https://localhost:8080/"
        },
        "outputId": "d4182c84-93af-49da-bcb5-06a8cbb4f73a"
      },
      "execution_count": null,
      "outputs": [
        {
          "output_type": "stream",
          "name": "stdout",
          "text": [
            "Epoch 1/50\n",
            "129/129 - 10s - loss: 0.5615 - acc: 0.5811 - 10s/epoch - 74ms/step\n",
            "Epoch 2/50\n",
            "129/129 - 6s - loss: 0.4899 - acc: 0.6469 - 6s/epoch - 50ms/step\n",
            "Epoch 3/50\n",
            "129/129 - 6s - loss: 0.3669 - acc: 0.7467 - 6s/epoch - 43ms/step\n",
            "Epoch 4/50\n",
            "129/129 - 7s - loss: 0.2766 - acc: 0.8096 - 7s/epoch - 57ms/step\n",
            "Epoch 5/50\n",
            "129/129 - 6s - loss: 0.2150 - acc: 0.8558 - 6s/epoch - 43ms/step\n",
            "Epoch 6/50\n",
            "129/129 - 8s - loss: 0.1449 - acc: 0.9191 - 8s/epoch - 59ms/step\n",
            "Epoch 7/50\n",
            "129/129 - 5s - loss: 0.0872 - acc: 0.9602 - 5s/epoch - 42ms/step\n",
            "Epoch 8/50\n",
            "129/129 - 6s - loss: 0.0593 - acc: 0.9716 - 6s/epoch - 47ms/step\n",
            "Epoch 9/50\n",
            "129/129 - 7s - loss: 0.0390 - acc: 0.9835 - 7s/epoch - 54ms/step\n",
            "Epoch 10/50\n",
            "129/129 - 5s - loss: 0.0327 - acc: 0.9864 - 5s/epoch - 42ms/step\n",
            "Epoch 11/50\n",
            "129/129 - 8s - loss: 0.0370 - acc: 0.9845 - 8s/epoch - 58ms/step\n",
            "Epoch 12/50\n",
            "129/129 - 5s - loss: 0.0360 - acc: 0.9866 - 5s/epoch - 42ms/step\n",
            "Epoch 13/50\n",
            "129/129 - 11s - loss: 0.0226 - acc: 0.9910 - 11s/epoch - 87ms/step\n",
            "Epoch 14/50\n",
            "129/129 - 5s - loss: 0.0201 - acc: 0.9932 - 5s/epoch - 42ms/step\n",
            "Epoch 15/50\n",
            "129/129 - 7s - loss: 0.0197 - acc: 0.9925 - 7s/epoch - 54ms/step\n",
            "Epoch 16/50\n",
            "129/129 - 6s - loss: 0.0155 - acc: 0.9939 - 6s/epoch - 46ms/step\n",
            "Epoch 17/50\n",
            "129/129 - 6s - loss: 0.0139 - acc: 0.9942 - 6s/epoch - 44ms/step\n",
            "Epoch 18/50\n",
            "129/129 - 9s - loss: 0.0153 - acc: 0.9939 - 9s/epoch - 71ms/step\n",
            "Epoch 19/50\n",
            "129/129 - 6s - loss: 0.0179 - acc: 0.9930 - 6s/epoch - 43ms/step\n",
            "Epoch 20/50\n",
            "129/129 - 8s - loss: 0.0110 - acc: 0.9956 - 8s/epoch - 59ms/step\n",
            "Epoch 21/50\n",
            "129/129 - 6s - loss: 0.0094 - acc: 0.9964 - 6s/epoch - 47ms/step\n",
            "Epoch 22/50\n",
            "129/129 - 9s - loss: 0.0074 - acc: 0.9971 - 9s/epoch - 72ms/step\n",
            "Epoch 23/50\n",
            "129/129 - 6s - loss: 0.0068 - acc: 0.9976 - 6s/epoch - 43ms/step\n",
            "Epoch 24/50\n",
            "129/129 - 6s - loss: 0.0066 - acc: 0.9978 - 6s/epoch - 50ms/step\n",
            "Epoch 25/50\n",
            "129/129 - 7s - loss: 0.0055 - acc: 0.9971 - 7s/epoch - 53ms/step\n",
            "Epoch 26/50\n",
            "129/129 - 6s - loss: 0.0053 - acc: 0.9978 - 6s/epoch - 44ms/step\n",
            "Epoch 27/50\n",
            "129/129 - 8s - loss: 0.0074 - acc: 0.9971 - 8s/epoch - 62ms/step\n",
            "Epoch 28/50\n",
            "129/129 - 5s - loss: 0.0099 - acc: 0.9956 - 5s/epoch - 43ms/step\n",
            "Epoch 29/50\n",
            "129/129 - 9s - loss: 0.0126 - acc: 0.9934 - 9s/epoch - 66ms/step\n",
            "Epoch 30/50\n",
            "129/129 - 6s - loss: 0.0078 - acc: 0.9968 - 6s/epoch - 43ms/step\n",
            "Epoch 31/50\n",
            "129/129 - 6s - loss: 0.0073 - acc: 0.9964 - 6s/epoch - 48ms/step\n",
            "Epoch 32/50\n",
            "129/129 - 7s - loss: 0.0050 - acc: 0.9978 - 7s/epoch - 56ms/step\n",
            "Epoch 33/50\n",
            "129/129 - 6s - loss: 0.0051 - acc: 0.9976 - 6s/epoch - 43ms/step\n",
            "Epoch 34/50\n",
            "129/129 - 8s - loss: 0.0031 - acc: 0.9978 - 8s/epoch - 60ms/step\n",
            "Epoch 35/50\n",
            "129/129 - 6s - loss: 0.0029 - acc: 0.9978 - 6s/epoch - 43ms/step\n",
            "Epoch 36/50\n",
            "129/129 - 7s - loss: 0.0113 - acc: 0.9949 - 7s/epoch - 53ms/step\n",
            "Epoch 37/50\n",
            "129/129 - 6s - loss: 0.0102 - acc: 0.9954 - 6s/epoch - 49ms/step\n",
            "Epoch 38/50\n",
            "129/129 - 7s - loss: 0.0056 - acc: 0.9978 - 7s/epoch - 53ms/step\n",
            "Epoch 39/50\n",
            "129/129 - 7s - loss: 0.0032 - acc: 0.9988 - 7s/epoch - 55ms/step\n",
            "Epoch 40/50\n",
            "129/129 - 5s - loss: 0.0023 - acc: 0.9993 - 5s/epoch - 42ms/step\n",
            "Epoch 41/50\n",
            "129/129 - 8s - loss: 0.0017 - acc: 0.9990 - 8s/epoch - 61ms/step\n",
            "Epoch 42/50\n",
            "129/129 - 7s - loss: 0.0015 - acc: 0.9990 - 7s/epoch - 55ms/step\n",
            "Epoch 43/50\n",
            "129/129 - 8s - loss: 0.0021 - acc: 0.9988 - 8s/epoch - 60ms/step\n",
            "Epoch 44/50\n",
            "129/129 - 5s - loss: 0.0022 - acc: 0.9988 - 5s/epoch - 43ms/step\n",
            "Epoch 45/50\n",
            "129/129 - 6s - loss: 0.0014 - acc: 0.9988 - 6s/epoch - 50ms/step\n",
            "Epoch 46/50\n",
            "129/129 - 7s - loss: 0.0012 - acc: 0.9988 - 7s/epoch - 53ms/step\n",
            "Epoch 47/50\n",
            "129/129 - 6s - loss: 0.0042 - acc: 0.9978 - 6s/epoch - 43ms/step\n",
            "Epoch 48/50\n",
            "129/129 - 8s - loss: 0.0120 - acc: 0.9949 - 8s/epoch - 59ms/step\n",
            "Epoch 49/50\n",
            "129/129 - 6s - loss: 0.0104 - acc: 0.9961 - 6s/epoch - 43ms/step\n",
            "Epoch 50/50\n",
            "129/129 - 8s - loss: 0.0042 - acc: 0.9973 - 8s/epoch - 58ms/step\n"
          ]
        }
      ]
    },
    {
      "cell_type": "code",
      "source": [
        "# Summarize history for accuracy\n",
        "plt.plot(history.history['acc'])\n",
        "plt.title('model accuracy')\n",
        "plt.ylabel('acc')\n",
        "plt.xlabel('epochs')\n",
        "plt.legend(['train', 'test'], loc='upper left')\n",
        "plt.show()\n",
        "\n",
        "# Summarize history for loss\n",
        "plt.plot(history.history['loss'])\n",
        "plt.title('model loss')\n",
        "plt.ylabel('loss')\n",
        "plt.xlabel('epochs')\n",
        "plt.legend(['train', 'test'], loc='upper left')\n",
        "plt.show()"
      ],
      "metadata": {
        "id": "TD1HauYgWEFI",
        "colab": {
          "base_uri": "https://localhost:8080/",
          "height": 927
        },
        "outputId": "59675365-de77-44b8-dfd4-d41e22a14906"
      },
      "execution_count": null,
      "outputs": [
        {
          "output_type": "display_data",
          "data": {
            "text/plain": [
              "<Figure size 640x480 with 1 Axes>"
            ],
            "image/png": "[encoded data removed]"
          },
          "metadata": {}
        },
        {
          "output_type": "display_data",
          "data": {
            "text/plain": [
              "<Figure size 640x480 with 1 Axes>"
            ],
            "image/png": "[encoded data removed]"
          },
          "metadata": {}
        }
      ]
    },
    {
      "cell_type": "code",
      "source": [
        "# Evaluate the model\n",
        "_, train_acc = model.evaluate(X_train, y_train, verbose=2)\n",
        "_, test_acc = model.evaluate(X_test, y_test, verbose=2)\n",
        "print('Train: %.3f, Test: %.4f' % (train_acc, test_acc))"
      ],
      "metadata": {
        "id": "BEeYZU5MWHX5",
        "colab": {
          "base_uri": "https://localhost:8080/"
        },
        "outputId": "4c915671-2862-4464-8936-2b33e93833a1"
      },
      "execution_count": null,
      "outputs": [
        {
          "output_type": "stream",
          "name": "stdout",
          "text": [
            "129/129 - 3s - loss: 0.0033 - acc: 0.9981 - 3s/epoch - 23ms/step\n",
            "23/23 - 0s - loss: 1.1240 - acc: 0.7153 - 446ms/epoch - 19ms/step\n",
            "Train: 0.998, Test: 0.7153\n"
          ]
        }
      ]
    },
    {
      "cell_type": "code",
      "source": [
        "# Take an indepth look at the model performance on the test set.\n",
        "# To investigate the model behaviour, we need to check how the model performs\n",
        "# depending on the types of inputs provided.\n",
        "\n",
        "# We will also analyse the \"sensitivity\" of the model with respect to the minum\n",
        "# probability threshold used for making a prediction.\n",
        "\n",
        "import numpy as np\n",
        "\n",
        "# Predict probabilities for test set\n",
        "yhat_probs = model.predict(X_test, verbose=0)\n",
        "\n",
        "# Predict crisp classes for test set\n",
        "yhat_classes = np.argmax(yhat_probs, axis=1)\n",
        "rounded_labels = np.argmax(y_test, axis=1)\n"
      ],
      "metadata": {
        "id": "M8hF_C24WKdV"
      },
      "execution_count": null,
      "outputs": []
    },
    {
      "cell_type": "code",
      "source": [
        "# Create a confusion matrix to see what errors is the model making (if any)\n",
        "from sklearn.metrics import confusion_matrix\n",
        "cm = confusion_matrix(rounded_labels, yhat_classes)"
      ],
      "metadata": {
        "id": "dO1ARqDWWTc1"
      },
      "execution_count": null,
      "outputs": []
    },
    {
      "cell_type": "code",
      "source": [
        "# Display the confusion matrix\n",
        "import seaborn as sns\n",
        "\n",
        "lstm_val = confusion_matrix(rounded_labels, yhat_classes)\n",
        "f, ax = plt.subplots(figsize=(5,5))\n",
        "sns.heatmap(lstm_val, annot=True, linewidth=0.7, linecolor='cyan', fmt='g', ax=ax, cmap=\"BuPu\")\n",
        "plt.title('LSTM Classification Confusion Matrix')\n",
        "plt.xlabel('Predict')\n",
        "plt.ylabel('Real')\n",
        "plt.show()"
      ],
      "metadata": {
        "id": "I24Bm4AEWYjg",
        "colab": {
          "base_uri": "https://localhost:8080/",
          "height": 487
        },
        "outputId": "1e03fa3f-b205-4404-c521-6c7c532463f7"
      },
      "execution_count": null,
      "outputs": [
        {
          "output_type": "display_data",
          "data": {
            "text/plain": [
              "<Figure size 500x500 with 2 Axes>"
            ],
            "image/png": "[encoded data removed]"
          },
          "metadata": {}
        }
      ]
    },
    {
      "cell_type": "markdown",
      "source": [
        "#Example\n",
        "\n",
        "Example usage of the trained model. Below we have an example on how to use the model to predict the text of a random input text."
      ],
      "metadata": {
        "id": "nPCCfrHAXgPb"
      }
    },
    {
      "cell_type": "code",
      "source": [
        "message = ['bad bad bad bad bad worse The local electronics industry is expected to remain stable amid layoff concerns surrounding Japanese electronics giants operating in the country, an official says.']\n",
        "seq = tokenizer.texts_to_sequences(message)\n",
        "padded = pad_sequences(seq, maxlen=X.shape[1], dtype='int32', value=0)\n",
        "pred = model.predict(padded)\n",
        "\n",
        "labels = ['0','1','2']\n",
        "print(pred, labels[np.argmax(pred)])"
      ],
      "metadata": {
        "id": "qMJNRks9Wjq3",
        "colab": {
          "base_uri": "https://localhost:8080/"
        },
        "outputId": "e9ed37aa-8e46-49c0-9ef7-895bdea50955"
      },
      "execution_count": null,
      "outputs": [
        {
          "output_type": "stream",
          "name": "stdout",
          "text": [
            "1/1 [==============================] - 0s 45ms/step\n",
            "[[9.9999309e-01 6.4190654e-06 4.8593887e-07]] 0\n"
          ]
        }
      ]
    },
    {
      "cell_type": "markdown",
      "source": [
        "References:\n",
        "- https://www.kaggle.com/code/khotijahs1/nlp-financial-news-sentiment-analysis#NLP"
      ],
      "metadata": {
        "id": "Y9jwIFaeVElG"
      }
    }
  ]
}