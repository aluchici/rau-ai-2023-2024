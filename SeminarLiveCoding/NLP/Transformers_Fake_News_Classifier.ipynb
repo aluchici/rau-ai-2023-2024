{
  "cells": [
    {
      "cell_type": "code",
      "execution_count": null,
      "metadata": {
        "id": "dqLTM5Iv406U"
      },
      "outputs": [],
      "source": [
        "import pandas as pd"
      ]
    },
    {
      "cell_type": "code",
      "execution_count": null,
      "metadata": {
        "colab": {
          "base_uri": "https://localhost:8080/",
          "height": 206
        },
        "id": "yO4vdB_a6uBK",
        "outputId": "cff13bc3-94b6-451f-ebaf-85e4859649db"
      },
      "outputs": [
        {
          "data": {
            "application/vnd.google.colaboratory.intrinsic+json": {
              "summary": "{\n  \"name\": \"news\",\n  \"rows\": 804,\n  \"fields\": [\n    {\n      \"column\": \"unit_id\",\n      \"properties\": {\n        \"dtype\": \"number\",\n        \"std\": 18769684,\n        \"min\": 1914947530,\n        \"max\": 1965511231,\n        \"num_unique_values\": 792,\n        \"samples\": [\n          1965511106,\n          1926479281,\n          1962495689\n        ],\n        \"semantic_type\": \"\",\n        \"description\": \"\"\n      }\n    },\n    {\n      \"column\": \"article_title\",\n      \"properties\": {\n        \"dtype\": \"string\",\n        \"num_unique_values\": 774,\n        \"samples\": [\n          \"At least 10 die in barrel bomb attacks by Syrian regime warplanes\",\n          \"Coalition Letter to UN & UNSC Presses for Stopping Assads & Russias Onslaught on Aleppo.\",\n          \"Al-Nusra Al-Qaeda Terrorists Attacks Kill 12 Civilians in Syrias Aleppo Hama\"\n        ],\n        \"semantic_type\": \"\",\n        \"description\": \"\"\n      }\n    },\n    {\n      \"column\": \"article_content\",\n      \"properties\": {\n        \"dtype\": \"string\",\n        \"num_unique_values\": 788,\n        \"samples\": [\n          \"Mon Jul 18 2016 21 Civilians Killed in US-Led Coalition Attacks in Northern Syria. Airstrikes by US-led coalition fighter jets have killed at least 21 civilians in northern Syrian territories held by the Daesh (ISIS ISIL) Takfiri terrorists a monitoring group says. The so-called Syrian Observatory for Human Rights said Monday that at least 15 people were killed as the coalition carried out raids in a northern district of Manbij city. The UK-based group which advocates the Syrian opposition said six more people lost their lives in a village near Manbij after similar attacks by coalition fighter jets. The so-called multinational task force against ISIS started its controversial mission in Iraq in late 2014 after ISIS seized control over territories west and north of the country. The air campaign was later expanded to cover areas in northern Syria despite criticism from the Syrian government that the attacks violate the sovereignty of the Arab country. The United States claims the attacks are carried out to assist Syrian Kurds and Arabs fighting against ISIS in areas along the Turkish border in the province of Aleppo. However the attacks have led to numerous deaths among the civilians and Syrian military forces. The coalition attacks on Manbij intensified in late June after Kurds and Arabs from the Syrian Democratic Forces (SDF) alliance failed in their drive to fully push back militants from the city. The SDF has attempted several times to advance from the western neighborhoods it has captured into the road south of Manbij which connects the strategic city to Raqqa the de facto capital of ISIS in Syria. Thousands have fled the fierce fighting in Manbij while tens of thousands more remain trapped in the city. The US and allies use the Incirlik air base in southern Turkey to bomb purported ISIS positions in northern Syria and Iraq Press TV reported. SSH 11\",\n          \"Published April 2 2017 Syrian opposition forces on Sunday claimed that Russian jets in violation of a cease-fire hit an outpost in northwestern Syrias Idlib province near the border with Turkey killing at least one opposition fighter and wounding several others. They said several overnight raids hit Babeska a village in Idlib that has become a haven for several moderate Free Syrian Army (FSA) groups. A tripartite mechanism was established in February by Turkey Russia and Iran to monitor the ceasefire in Syria. Opposition forces however say Russia has failed to pressure the Assad regime to ensure the ceasefire holds. The village also houses hundreds of families and fighters from the Damascus suburb of Daraya which fell to Assad regime forces last year and was evacuated by opposition forces. Fighter jets also believed to be Russian struck the town of Urum al Kubra in the opposition-held western Aleppo countryside where five civilians were killed in an area that has witnessed fighting between the opposition and the Assad regime the opposition said.\",\n          \"Syria air strikes kill dozens in rebel town Monitor AFP Wednesday 17 Sep 2014 Syrian air strikes on a besieged rebel town in the heart of the country have killed nearly 50 people over the past two days a monitoring group said on Wednesday. \\\"On Tuesday 25 people including seven women and a child were killed in air strikes on Talbisseh in Homs province\\\" the Syrian Observatory for Human Rights said adding that a rebel commander was also among the dead. On Monday air strikes killed 23 people in the town which has been under siege by the army ever since rebels seized it two year ago. Activists appealed for help on Facebook. \\\"The towns hospital has received a large number of wounded patients. The hospital has no more medicines or bandages\\\" said one activist from Talbisseh. A security source in Damascus confirmed the air strikes. \\\"There are a large number of armed terrorist groups. On Tuesday Talbissehs most important terrorist and his brother were killed\\\" the source said using the regimes standard term for the rebels. He identified the dead commander as Abu Hatem al-Dahik head of the rebel Al-Iman Brigade. \\\"We will continue to target the terrorists in all their hideouts\\\" the source told AFP on condition of anonymity. The Observatory said that rebels in Talbisseh had shelled regime positions around the nearby rebel-held town of Umm Sharshuh as fighting raged around it. The towns are among a number that the rebels still hold in Homs province after their withdrawal from Homs city earlier year. The Observatory meanwhile updated to 18 its toll for the number of rebels killed in an abortive attempt to infiltrate the heart of Damascus on Monday. Two pro-regime militiamen were also killed. One person was killed in central Damascus on Wednesday by rebel fire from its outskirts the state SANA news agency reported. Some 191000 people have been killed since an uprising against President Bashar al-Assads rule erupted in March 2011.\"\n        ],\n        \"semantic_type\": \"\",\n        \"description\": \"\"\n      }\n    },\n    {\n      \"column\": \"source\",\n      \"properties\": {\n        \"dtype\": \"category\",\n        \"num_unique_values\": 15,\n        \"samples\": [\n          \"etilaf\",\n          \"arabiya\",\n          \"nna\"\n        ],\n        \"semantic_type\": \"\",\n        \"description\": \"\"\n      }\n    },\n    {\n      \"column\": \"date\",\n      \"properties\": {\n        \"dtype\": \"date\",\n        \"min\": \"2011-02-02 00:00:00\",\n        \"max\": \"2018-07-18 00:00:00\",\n        \"num_unique_values\": 411,\n        \"samples\": [\n          \"2014-05-06 00:00:00\",\n          \"7/29/2016\",\n          \"2016-03-10 00:00:00\"\n        ],\n        \"semantic_type\": \"\",\n        \"description\": \"\"\n      }\n    },\n    {\n      \"column\": \"location\",\n      \"properties\": {\n        \"dtype\": \"category\",\n        \"num_unique_values\": 12,\n        \"samples\": [\n          \"daraa\",\n          \"quneitra\",\n          \"idlib\"\n        ],\n        \"semantic_type\": \"\",\n        \"description\": \"\"\n      }\n    },\n    {\n      \"column\": \"labels\",\n      \"properties\": {\n        \"dtype\": \"number\",\n        \"std\": 0.4991886543466848,\n        \"min\": 0.0,\n        \"max\": 1.0,\n        \"num_unique_values\": 2,\n        \"samples\": [\n          1.0,\n          0.0\n        ],\n        \"semantic_type\": \"\",\n        \"description\": \"\"\n      }\n    }\n  ]\n}",
              "type": "dataframe",
              "variable_name": "news"
            },
            "text/html": [
              "\n",
              "  <div id=\"df-49ed8081-a3fd-473e-818c-fe4912e0b085\" class=\"colab-df-container\">\n",
              "    <div>\n",
              "<style scoped>\n",
              "    .dataframe tbody tr th:only-of-type {\n",
              "        vertical-align: middle;\n",
              "    }\n",
              "\n",
              "    .dataframe tbody tr th {\n",
              "        vertical-align: top;\n",
              "    }\n",
              "\n",
              "    .dataframe thead th {\n",
              "        text-align: right;\n",
              "    }\n",
              "</style>\n",
              "<table border=\"1\" class=\"dataframe\">\n",
              "  <thead>\n",
              "    <tr style=\"text-align: right;\">\n",
              "      <th></th>\n",
              "      <th>unit_id</th>\n",
              "      <th>article_title</th>\n",
              "      <th>article_content</th>\n",
              "      <th>source</th>\n",
              "      <th>date</th>\n",
              "      <th>location</th>\n",
              "      <th>labels</th>\n",
              "    </tr>\n",
              "  </thead>\n",
              "  <tbody>\n",
              "    <tr>\n",
              "      <th>0</th>\n",
              "      <td>1914947530</td>\n",
              "      <td>Syria attack symptoms consistent with nerve ag...</td>\n",
              "      <td>Wed 05 Apr 2017 Syria attack symptoms consiste...</td>\n",
              "      <td>nna</td>\n",
              "      <td>2017-05-04 00:00:00</td>\n",
              "      <td>idlib</td>\n",
              "      <td>0.0</td>\n",
              "    </tr>\n",
              "    <tr>\n",
              "      <th>1</th>\n",
              "      <td>1914947532</td>\n",
              "      <td>Homs governor says U.S. attack caused deaths b...</td>\n",
              "      <td>Fri 07 Apr 2017 at 0914 Homs governor says U.S...</td>\n",
              "      <td>nna</td>\n",
              "      <td>2017-07-04 00:00:00</td>\n",
              "      <td>homs</td>\n",
              "      <td>0.0</td>\n",
              "    </tr>\n",
              "    <tr>\n",
              "      <th>2</th>\n",
              "      <td>1914947533</td>\n",
              "      <td>Death toll from Aleppo bomb attack at least 112</td>\n",
              "      <td>Sun 16 Apr 2017 Death toll from Aleppo bomb at...</td>\n",
              "      <td>nna</td>\n",
              "      <td>4/16/2017</td>\n",
              "      <td>aleppo</td>\n",
              "      <td>0.0</td>\n",
              "    </tr>\n",
              "    <tr>\n",
              "      <th>3</th>\n",
              "      <td>1914947534</td>\n",
              "      <td>Aleppo bomb blast kills six Syrian state TV</td>\n",
              "      <td>Wed 19 Apr 2017 Aleppo bomb blast kills six Sy...</td>\n",
              "      <td>nna</td>\n",
              "      <td>4/19/2017</td>\n",
              "      <td>aleppo</td>\n",
              "      <td>0.0</td>\n",
              "    </tr>\n",
              "    <tr>\n",
              "      <th>4</th>\n",
              "      <td>1914947535</td>\n",
              "      <td>29 Syria Rebels Dead in Fighting for Key Alepp...</td>\n",
              "      <td>Sun 10 Jul 2016 29 Syria Rebels Dead in Fighti...</td>\n",
              "      <td>nna</td>\n",
              "      <td>2016-10-07 00:00:00</td>\n",
              "      <td>aleppo</td>\n",
              "      <td>0.0</td>\n",
              "    </tr>\n",
              "  </tbody>\n",
              "</table>\n",
              "</div>\n",
              "    <div class=\"colab-df-buttons\">\n",
              "\n",
              "  <div class=\"colab-df-container\">\n",
              "    <button class=\"colab-df-convert\" onclick=\"convertToInteractive('df-49ed8081-a3fd-473e-818c-fe4912e0b085')\"\n",
              "            title=\"Convert this dataframe to an interactive table.\"\n",
              "            style=\"display:none;\">\n",
              "\n",
              "  <svg xmlns=\"http://www.w3.org/2000/svg\" height=\"24px\" viewBox=\"0 -960 960 960\">\n",
              "    <path d=\"M120-120v-720h720v720H120Zm60-500h600v-160H180v160Zm220 220h160v-160H400v160Zm0 220h160v-160H400v160ZM180-400h160v-160H180v160Zm440 0h160v-160H620v160ZM180-180h160v-160H180v160Zm440 0h160v-160H620v160Z\"/>\n",
              "  </svg>\n",
              "    </button>\n",
              "\n",
              "  <style>\n",
              "    .colab-df-container {\n",
              "      display:flex;\n",
              "      gap: 12px;\n",
              "    }\n",
              "\n",
              "    .colab-df-convert {\n",
              "      background-color: #E8F0FE;\n",
              "      border: none;\n",
              "      border-radius: 50%;\n",
              "      cursor: pointer;\n",
              "      display: none;\n",
              "      fill: #1967D2;\n",
              "      height: 32px;\n",
              "      padding: 0 0 0 0;\n",
              "      width: 32px;\n",
              "    }\n",
              "\n",
              "    .colab-df-convert:hover {\n",
              "      background-color: #E2EBFA;\n",
              "      box-shadow: 0px 1px 2px rgba(60, 64, 67, 0.3), 0px 1px 3px 1px rgba(60, 64, 67, 0.15);\n",
              "      fill: #174EA6;\n",
              "    }\n",
              "\n",
              "    .colab-df-buttons div {\n",
              "      margin-bottom: 4px;\n",
              "    }\n",
              "\n",
              "    [theme=dark] .colab-df-convert {\n",
              "      background-color: #3B4455;\n",
              "      fill: #D2E3FC;\n",
              "    }\n",
              "\n",
              "    [theme=dark] .colab-df-convert:hover {\n",
              "      background-color: #434B5C;\n",
              "      box-shadow: 0px 1px 3px 1px rgba(0, 0, 0, 0.15);\n",
              "      filter: drop-shadow(0px 1px 2px rgba(0, 0, 0, 0.3));\n",
              "      fill: #FFFFFF;\n",
              "    }\n",
              "  </style>\n",
              "\n",
              "    <script>\n",
              "      const buttonEl =\n",
              "        document.querySelector('#df-49ed8081-a3fd-473e-818c-fe4912e0b085 button.colab-df-convert');\n",
              "      buttonEl.style.display =\n",
              "        google.colab.kernel.accessAllowed ? 'block' : 'none';\n",
              "\n",
              "      async function convertToInteractive(key) {\n",
              "        const element = document.querySelector('#df-49ed8081-a3fd-473e-818c-fe4912e0b085');\n",
              "        const dataTable =\n",
              "          await google.colab.kernel.invokeFunction('convertToInteractive',\n",
              "                                                    [key], {});\n",
              "        if (!dataTable) return;\n",
              "\n",
              "        const docLinkHtml = 'Like what you see? Visit the ' +\n",
              "          '<a target=\"_blank\" href=https://colab.research.google.com/notebooks/data_table.ipynb>data table notebook</a>'\n",
              "          + ' to learn more about interactive tables.';\n",
              "        element.innerHTML = '';\n",
              "        dataTable['output_type'] = 'display_data';\n",
              "        await google.colab.output.renderOutput(dataTable, element);\n",
              "        const docLink = document.createElement('div');\n",
              "        docLink.innerHTML = docLinkHtml;\n",
              "        element.appendChild(docLink);\n",
              "      }\n",
              "    </script>\n",
              "  </div>\n",
              "\n",
              "\n",
              "<div id=\"df-91c86e4a-0424-4d2c-94ac-d4e1fe2264b4\">\n",
              "  <button class=\"colab-df-quickchart\" onclick=\"quickchart('df-91c86e4a-0424-4d2c-94ac-d4e1fe2264b4')\"\n",
              "            title=\"Suggest charts\"\n",
              "            style=\"display:none;\">\n",
              "\n",
              "<svg xmlns=\"http://www.w3.org/2000/svg\" height=\"24px\"viewBox=\"0 0 24 24\"\n",
              "     width=\"24px\">\n",
              "    <g>\n",
              "        <path d=\"M19 3H5c-1.1 0-2 .9-2 2v14c0 1.1.9 2 2 2h14c1.1 0 2-.9 2-2V5c0-1.1-.9-2-2-2zM9 17H7v-7h2v7zm4 0h-2V7h2v10zm4 0h-2v-4h2v4z\"/>\n",
              "    </g>\n",
              "</svg>\n",
              "  </button>\n",
              "\n",
              "<style>\n",
              "  .colab-df-quickchart {\n",
              "      --bg-color: #E8F0FE;\n",
              "      --fill-color: #1967D2;\n",
              "      --hover-bg-color: #E2EBFA;\n",
              "      --hover-fill-color: #174EA6;\n",
              "      --disabled-fill-color: #AAA;\n",
              "      --disabled-bg-color: #DDD;\n",
              "  }\n",
              "\n",
              "  [theme=dark] .colab-df-quickchart {\n",
              "      --bg-color: #3B4455;\n",
              "      --fill-color: #D2E3FC;\n",
              "      --hover-bg-color: #434B5C;\n",
              "      --hover-fill-color: #FFFFFF;\n",
              "      --disabled-bg-color: #3B4455;\n",
              "      --disabled-fill-color: #666;\n",
              "  }\n",
              "\n",
              "  .colab-df-quickchart {\n",
              "    background-color: var(--bg-color);\n",
              "    border: none;\n",
              "    border-radius: 50%;\n",
              "    cursor: pointer;\n",
              "    display: none;\n",
              "    fill: var(--fill-color);\n",
              "    height: 32px;\n",
              "    padding: 0;\n",
              "    width: 32px;\n",
              "  }\n",
              "\n",
              "  .colab-df-quickchart:hover {\n",
              "    background-color: var(--hover-bg-color);\n",
              "    box-shadow: 0 1px 2px rgba(60, 64, 67, 0.3), 0 1px 3px 1px rgba(60, 64, 67, 0.15);\n",
              "    fill: var(--button-hover-fill-color);\n",
              "  }\n",
              "\n",
              "  .colab-df-quickchart-complete:disabled,\n",
              "  .colab-df-quickchart-complete:disabled:hover {\n",
              "    background-color: var(--disabled-bg-color);\n",
              "    fill: var(--disabled-fill-color);\n",
              "    box-shadow: none;\n",
              "  }\n",
              "\n",
              "  .colab-df-spinner {\n",
              "    border: 2px solid var(--fill-color);\n",
              "    border-color: transparent;\n",
              "    border-bottom-color: var(--fill-color);\n",
              "    animation:\n",
              "      spin 1s steps(1) infinite;\n",
              "  }\n",
              "\n",
              "  @keyframes spin {\n",
              "    0% {\n",
              "      border-color: transparent;\n",
              "      border-bottom-color: var(--fill-color);\n",
              "      border-left-color: var(--fill-color);\n",
              "    }\n",
              "    20% {\n",
              "      border-color: transparent;\n",
              "      border-left-color: var(--fill-color);\n",
              "      border-top-color: var(--fill-color);\n",
              "    }\n",
              "    30% {\n",
              "      border-color: transparent;\n",
              "      border-left-color: var(--fill-color);\n",
              "      border-top-color: var(--fill-color);\n",
              "      border-right-color: var(--fill-color);\n",
              "    }\n",
              "    40% {\n",
              "      border-color: transparent;\n",
              "      border-right-color: var(--fill-color);\n",
              "      border-top-color: var(--fill-color);\n",
              "    }\n",
              "    60% {\n",
              "      border-color: transparent;\n",
              "      border-right-color: var(--fill-color);\n",
              "    }\n",
              "    80% {\n",
              "      border-color: transparent;\n",
              "      border-right-color: var(--fill-color);\n",
              "      border-bottom-color: var(--fill-color);\n",
              "    }\n",
              "    90% {\n",
              "      border-color: transparent;\n",
              "      border-bottom-color: var(--fill-color);\n",
              "    }\n",
              "  }\n",
              "</style>\n",
              "\n",
              "  <script>\n",
              "    async function quickchart(key) {\n",
              "      const quickchartButtonEl =\n",
              "        document.querySelector('#' + key + ' button');\n",
              "      quickchartButtonEl.disabled = true;  // To prevent multiple clicks.\n",
              "      quickchartButtonEl.classList.add('colab-df-spinner');\n",
              "      try {\n",
              "        const charts = await google.colab.kernel.invokeFunction(\n",
              "            'suggestCharts', [key], {});\n",
              "      } catch (error) {\n",
              "        console.error('Error during call to suggestCharts:', error);\n",
              "      }\n",
              "      quickchartButtonEl.classList.remove('colab-df-spinner');\n",
              "      quickchartButtonEl.classList.add('colab-df-quickchart-complete');\n",
              "    }\n",
              "    (() => {\n",
              "      let quickchartButtonEl =\n",
              "        document.querySelector('#df-91c86e4a-0424-4d2c-94ac-d4e1fe2264b4 button');\n",
              "      quickchartButtonEl.style.display =\n",
              "        google.colab.kernel.accessAllowed ? 'block' : 'none';\n",
              "    })();\n",
              "  </script>\n",
              "</div>\n",
              "    </div>\n",
              "  </div>\n"
            ],
            "text/plain": [
              "      unit_id                                      article_title  \\\n",
              "0  1914947530  Syria attack symptoms consistent with nerve ag...   \n",
              "1  1914947532  Homs governor says U.S. attack caused deaths b...   \n",
              "2  1914947533    Death toll from Aleppo bomb attack at least 112   \n",
              "3  1914947534        Aleppo bomb blast kills six Syrian state TV   \n",
              "4  1914947535  29 Syria Rebels Dead in Fighting for Key Alepp...   \n",
              "\n",
              "                                     article_content source  \\\n",
              "0  Wed 05 Apr 2017 Syria attack symptoms consiste...    nna   \n",
              "1  Fri 07 Apr 2017 at 0914 Homs governor says U.S...    nna   \n",
              "2  Sun 16 Apr 2017 Death toll from Aleppo bomb at...    nna   \n",
              "3  Wed 19 Apr 2017 Aleppo bomb blast kills six Sy...    nna   \n",
              "4  Sun 10 Jul 2016 29 Syria Rebels Dead in Fighti...    nna   \n",
              "\n",
              "                  date location  labels  \n",
              "0  2017-05-04 00:00:00    idlib     0.0  \n",
              "1  2017-07-04 00:00:00     homs     0.0  \n",
              "2            4/16/2017   aleppo     0.0  \n",
              "3            4/19/2017   aleppo     0.0  \n",
              "4  2016-10-07 00:00:00   aleppo     0.0  "
            ]
          },
          "execution_count": 2,
          "metadata": {},
          "output_type": "execute_result"
        }
      ],
      "source": [
        "news = pd.read_excel(\"FA-KES-Dataset.xls\")\n",
        "news.head()"
      ]
    },
    {
      "cell_type": "code",
      "execution_count": null,
      "metadata": {
        "colab": {
          "base_uri": "https://localhost:8080/"
        },
        "id": "fFKiNd6T64fD",
        "outputId": "bafe1a3e-bcdb-451d-91c6-d862d943d120"
      },
      "outputs": [
        {
          "data": {
            "text/plain": [
              "array([ 0.,  1., nan])"
            ]
          },
          "execution_count": 3,
          "metadata": {},
          "output_type": "execute_result"
        }
      ],
      "source": [
        "news[\"labels\"].unique()"
      ]
    },
    {
      "cell_type": "code",
      "execution_count": null,
      "metadata": {
        "colab": {
          "base_uri": "https://localhost:8080/"
        },
        "id": "aCqUU45t6_p3",
        "outputId": "696938fd-0084-4c5b-9b26-e0e1fd440e8a"
      },
      "outputs": [
        {
          "name": "stdout",
          "output_type": "stream",
          "text": [
            "<class 'pandas.core.frame.DataFrame'>\n",
            "Index: 755 entries, 0 to 803\n",
            "Data columns (total 7 columns):\n",
            " #   Column           Non-Null Count  Dtype  \n",
            "---  ------           --------------  -----  \n",
            " 0   unit_id          755 non-null    int64  \n",
            " 1   article_title    755 non-null    object \n",
            " 2   article_content  755 non-null    object \n",
            " 3   source           755 non-null    object \n",
            " 4   date             755 non-null    object \n",
            " 5   location         755 non-null    object \n",
            " 6   labels           755 non-null    float64\n",
            "dtypes: float64(1), int64(1), object(5)\n",
            "memory usage: 47.2+ KB\n"
          ]
        }
      ],
      "source": [
        "news.dropna(inplace=True)\n",
        "news.info()"
      ]
    },
    {
      "cell_type": "code",
      "execution_count": null,
      "metadata": {
        "id": "7NT-PN-g-TBg"
      },
      "outputs": [],
      "source": [
        "y = news[\"labels\"].values\n",
        "X = (news[\"article_title\"] + \" \" + news[\"article_content\"]).values"
      ]
    },
    {
      "cell_type": "code",
      "execution_count": null,
      "metadata": {
        "colab": {
          "base_uri": "https://localhost:8080/",
          "height": 157
        },
        "id": "9aQyV1kd_c3L",
        "outputId": "609f4205-5cc5-4217-f574-b0aef90b0041"
      },
      "outputs": [
        {
          "data": {
            "application/vnd.google.colaboratory.intrinsic+json": {
              "type": "string"
            },
            "text/plain": [
              "'Syria attack symptoms consistent with nerve agent use WHO Wed 05 Apr 2017 Syria attack symptoms consistent with nerve agent use WHO. Victims of a suspected chemical attack in Syria appeared to show symptoms consistent with reaction to a nerve agent the World Health Organization said on Wednesday. \"Some cases appear to show additional signs consistent with exposure to organophosphorus chemicals a category of chemicals that includes nerve agents\" WHO said in a statement putting the death toll at at least 70. The United States has said the deaths were caused by sarin nerve gas dropped by Syrian aircraft. Russia has said it believes poison gas had leaked from a rebel chemical weapons depot struck by Syrian bombs. Sarin is an organophosporus compound and a nerve agent. Chlorine and mustard gas which are also believed to have been used in the past in Syria are not. A Russian Defence Ministry spokesman did not say what agent was used in the attack but said the rebels had used the same chemical weapons in Aleppo last year. The WHO said it was likely that some kind of chemical was used in the attack because sufferers had no apparent external injuries and died from a rapid onset of similar symptoms including acute respiratory distress. It said its experts in Turkey were giving guidance to overwhelmed health workers in Idlib on the diagnosis and treatment of patients and medicines such as Atropine an antidote for some types of chemical exposure and steroids for symptomatic treatment had been sent. A U.N. Commission of Inquiry into human rights in Syria has previously said forces loyal to Syrian President Bashar al-Assad have used lethal chlorine gas on multiple occasions. Hundreds of civilians died in a sarin gas attack in Ghouta on the outskirts of Damascus in August 2013. Assads government has always denied responsibility for that attack. Syria agreed to destroy its chemical weapons in 2013 under a deal brokered by Moscow and Washington. But Russia a Syrian ally and China have repeatedly vetoed any United Nations move to sanction Assad or refer the situation in Syria to the International Criminal Court. \"These types of weapons are banned by international law because they represent an intolerable barbarism\" Peter Salama Executive Director of the WHO Health Emergencies Programme said in the WHO statement. - REUTERS'"
            ]
          },
          "execution_count": 12,
          "metadata": {},
          "output_type": "execute_result"
        }
      ],
      "source": [
        "X[0]"
      ]
    },
    {
      "cell_type": "code",
      "execution_count": null,
      "metadata": {
        "colab": {
          "base_uri": "https://localhost:8080/"
        },
        "id": "ChMTmhZb-qLz",
        "outputId": "8dd89441-dca8-499e-e007-2cbc0285dfed"
      },
      "outputs": [
        {
          "data": {
            "text/plain": [
              "((755,), (755,))"
            ]
          },
          "execution_count": 7,
          "metadata": {},
          "output_type": "execute_result"
        }
      ],
      "source": [
        "X.shape, y.shape"
      ]
    },
    {
      "cell_type": "code",
      "execution_count": null,
      "metadata": {
        "id": "jY1eO8zb-y4u"
      },
      "outputs": [],
      "source": [
        "from sklearn.model_selection import train_test_split\n",
        "\n",
        "train_texts, test_texts, train_labels, test_labels = train_test_split(X, y, test_size=0.1, random_state=42)"
      ]
    },
    {
      "cell_type": "code",
      "execution_count": null,
      "metadata": {
        "colab": {
          "base_uri": "https://localhost:8080/"
        },
        "id": "DjRPaXrP_Q8X",
        "outputId": "bad27dc5-060c-4902-d55c-a82ea56b8274"
      },
      "outputs": [
        {
          "data": {
            "text/plain": [
              "((679,), (76,))"
            ]
          },
          "execution_count": 9,
          "metadata": {},
          "output_type": "execute_result"
        }
      ],
      "source": [
        "train_texts.shape, test_texts.shape"
      ]
    },
    {
      "cell_type": "code",
      "execution_count": null,
      "metadata": {
        "colab": {
          "background_save": true,
          "base_uri": "https://localhost:8080/",
          "height": 192
        },
        "id": "7sJaNWRj_gmc",
        "outputId": "c98594d2-89ff-4986-f280-1f2ea0fb93f5"
      },
      "outputs": [
        {
          "ename": "NameError",
          "evalue": "name 'train_texts' is not defined",
          "output_type": "error",
          "traceback": [
            "\u001b[0;31m---------------------------------------------------------------------------\u001b[0m",
            "\u001b[0;31mNameError\u001b[0m                                 Traceback (most recent call last)",
            "\u001b[0;32m<ipython-input-1-d7e2fbe1826d>\u001b[0m in \u001b[0;36m<cell line: 1>\u001b[0;34m()\u001b[0m\n\u001b[0;32m----> 1\u001b[0;31m \u001b[0mtype\u001b[0m\u001b[0;34m(\u001b[0m\u001b[0mtrain_texts\u001b[0m\u001b[0;34m[\u001b[0m\u001b[0;36m0\u001b[0m\u001b[0;34m]\u001b[0m\u001b[0;34m)\u001b[0m\u001b[0;34m\u001b[0m\u001b[0;34m\u001b[0m\u001b[0m\n\u001b[0m",
            "\u001b[0;31mNameError\u001b[0m: name 'train_texts' is not defined"
          ]
        }
      ],
      "source": [
        "type(train_texts[0])"
      ]
    },
    {
      "cell_type": "code",
      "execution_count": null,
      "metadata": {
        "colab": {
          "base_uri": "https://localhost:8080/"
        },
        "id": "9ONCx-fo7Gh_",
        "outputId": "cd639a5f-b5bc-40e5-aae1-f21106fc55aa"
      },
      "outputs": [
        {
          "name": "stderr",
          "output_type": "stream",
          "text": [
            "Some weights of DistilBertForSequenceClassification were not initialized from the model checkpoint at distilbert-base-uncased and are newly initialized: ['classifier.bias', 'classifier.weight', 'pre_classifier.bias', 'pre_classifier.weight']\n",
            "You should probably TRAIN this model on a down-stream task to be able to use it for predictions and inference.\n"
          ]
        }
      ],
      "source": [
        "from transformers import DistilBertTokenizerFast, DistilBertForSequenceClassification\n",
        "from transformers import Trainer, TrainingArguments\n",
        "\n",
        "\n",
        "tokenizer = DistilBertTokenizerFast.from_pretrained('distilbert-base-uncased')\n",
        "model = DistilBertForSequenceClassification.from_pretrained('distilbert-base-uncased')"
      ]
    },
    {
      "cell_type": "code",
      "execution_count": null,
      "metadata": {
        "colab": {
          "base_uri": "https://localhost:8080/",
          "height": 356
        },
        "id": "NF3ZvquX8LdW",
        "outputId": "a72b969b-c9f4-4927-a054-03a8555030d1"
      },
      "outputs": [
        {
          "ename": "ValueError",
          "evalue": "text input must be of type `str` (single example), `List[str]` (batch or single pretokenized example) or `List[List[str]]` (batch of pretokenized examples).",
          "output_type": "error",
          "traceback": [
            "\u001b[0;31m---------------------------------------------------------------------------\u001b[0m",
            "\u001b[0;31mValueError\u001b[0m                                Traceback (most recent call last)",
            "\u001b[0;32m<ipython-input-11-5953d56de167>\u001b[0m in \u001b[0;36m<cell line: 1>\u001b[0;34m()\u001b[0m\n\u001b[0;32m----> 1\u001b[0;31m \u001b[0mtrain_encodings\u001b[0m \u001b[0;34m=\u001b[0m \u001b[0mtokenizer\u001b[0m\u001b[0;34m(\u001b[0m\u001b[0mtrain_texts\u001b[0m\u001b[0;34m,\u001b[0m \u001b[0mtruncation\u001b[0m\u001b[0;34m=\u001b[0m\u001b[0;32mTrue\u001b[0m\u001b[0;34m,\u001b[0m \u001b[0mpadding\u001b[0m\u001b[0;34m=\u001b[0m\u001b[0;32mTrue\u001b[0m\u001b[0;34m)\u001b[0m\u001b[0;34m\u001b[0m\u001b[0;34m\u001b[0m\u001b[0m\n\u001b[0m\u001b[1;32m      2\u001b[0m \u001b[0mtest_encodings\u001b[0m \u001b[0;34m=\u001b[0m \u001b[0mtokenizer\u001b[0m\u001b[0;34m(\u001b[0m\u001b[0mtest_texts\u001b[0m\u001b[0;34m,\u001b[0m \u001b[0mtruncation\u001b[0m\u001b[0;34m=\u001b[0m\u001b[0;32mTrue\u001b[0m\u001b[0;34m,\u001b[0m \u001b[0mpadding\u001b[0m\u001b[0;34m=\u001b[0m\u001b[0;32mTrue\u001b[0m\u001b[0;34m)\u001b[0m\u001b[0;34m\u001b[0m\u001b[0;34m\u001b[0m\u001b[0m\n",
            "\u001b[0;32m/usr/local/lib/python3.10/dist-packages/transformers/tokenization_utils_base.py\u001b[0m in \u001b[0;36m__call__\u001b[0;34m(self, text, text_pair, text_target, text_pair_target, add_special_tokens, padding, truncation, max_length, stride, is_split_into_words, pad_to_multiple_of, return_tensors, return_token_type_ids, return_attention_mask, return_overflowing_tokens, return_special_tokens_mask, return_offsets_mapping, return_length, verbose, **kwargs)\u001b[0m\n\u001b[1;32m   2856\u001b[0m             \u001b[0;32mif\u001b[0m \u001b[0;32mnot\u001b[0m \u001b[0mself\u001b[0m\u001b[0;34m.\u001b[0m\u001b[0m_in_target_context_manager\u001b[0m\u001b[0;34m:\u001b[0m\u001b[0;34m\u001b[0m\u001b[0;34m\u001b[0m\u001b[0m\n\u001b[1;32m   2857\u001b[0m                 \u001b[0mself\u001b[0m\u001b[0;34m.\u001b[0m\u001b[0m_switch_to_input_mode\u001b[0m\u001b[0;34m(\u001b[0m\u001b[0;34m)\u001b[0m\u001b[0;34m\u001b[0m\u001b[0;34m\u001b[0m\u001b[0m\n\u001b[0;32m-> 2858\u001b[0;31m             \u001b[0mencodings\u001b[0m \u001b[0;34m=\u001b[0m \u001b[0mself\u001b[0m\u001b[0;34m.\u001b[0m\u001b[0m_call_one\u001b[0m\u001b[0;34m(\u001b[0m\u001b[0mtext\u001b[0m\u001b[0;34m=\u001b[0m\u001b[0mtext\u001b[0m\u001b[0;34m,\u001b[0m \u001b[0mtext_pair\u001b[0m\u001b[0;34m=\u001b[0m\u001b[0mtext_pair\u001b[0m\u001b[0;34m,\u001b[0m \u001b[0;34m**\u001b[0m\u001b[0mall_kwargs\u001b[0m\u001b[0;34m)\u001b[0m\u001b[0;34m\u001b[0m\u001b[0;34m\u001b[0m\u001b[0m\n\u001b[0m\u001b[1;32m   2859\u001b[0m         \u001b[0;32mif\u001b[0m \u001b[0mtext_target\u001b[0m \u001b[0;32mis\u001b[0m \u001b[0;32mnot\u001b[0m \u001b[0;32mNone\u001b[0m\u001b[0;34m:\u001b[0m\u001b[0;34m\u001b[0m\u001b[0;34m\u001b[0m\u001b[0m\n\u001b[1;32m   2860\u001b[0m             \u001b[0mself\u001b[0m\u001b[0;34m.\u001b[0m\u001b[0m_switch_to_target_mode\u001b[0m\u001b[0;34m(\u001b[0m\u001b[0;34m)\u001b[0m\u001b[0;34m\u001b[0m\u001b[0;34m\u001b[0m\u001b[0m\n",
            "\u001b[0;32m/usr/local/lib/python3.10/dist-packages/transformers/tokenization_utils_base.py\u001b[0m in \u001b[0;36m_call_one\u001b[0;34m(self, text, text_pair, add_special_tokens, padding, truncation, max_length, stride, is_split_into_words, pad_to_multiple_of, return_tensors, return_token_type_ids, return_attention_mask, return_overflowing_tokens, return_special_tokens_mask, return_offsets_mapping, return_length, verbose, **kwargs)\u001b[0m\n\u001b[1;32m   2914\u001b[0m \u001b[0;34m\u001b[0m\u001b[0m\n\u001b[1;32m   2915\u001b[0m         \u001b[0;32mif\u001b[0m \u001b[0;32mnot\u001b[0m \u001b[0m_is_valid_text_input\u001b[0m\u001b[0;34m(\u001b[0m\u001b[0mtext\u001b[0m\u001b[0;34m)\u001b[0m\u001b[0;34m:\u001b[0m\u001b[0;34m\u001b[0m\u001b[0;34m\u001b[0m\u001b[0m\n\u001b[0;32m-> 2916\u001b[0;31m             raise ValueError(\n\u001b[0m\u001b[1;32m   2917\u001b[0m                 \u001b[0;34m\"text input must be of type `str` (single example), `List[str]` (batch or single pretokenized example) \"\u001b[0m\u001b[0;34m\u001b[0m\u001b[0;34m\u001b[0m\u001b[0m\n\u001b[1;32m   2918\u001b[0m                 \u001b[0;34m\"or `List[List[str]]` (batch of pretokenized examples).\"\u001b[0m\u001b[0;34m\u001b[0m\u001b[0;34m\u001b[0m\u001b[0m\n",
            "\u001b[0;31mValueError\u001b[0m: text input must be of type `str` (single example), `List[str]` (batch or single pretokenized example) or `List[List[str]]` (batch of pretokenized examples)."
          ]
        }
      ],
      "source": [
        "train_encodings = tokenizer(train_texts, truncation=True, padding=True)\n",
        "test_encodings = tokenizer(test_texts, truncation=True, padding=True)"
      ]
    },
    {
      "cell_type": "code",
      "execution_count": null,
      "metadata": {
        "id": "UMfvTPL9_YzY"
      },
      "outputs": [],
      "source": []
    },
    {
      "cell_type": "code",
      "execution_count": null,
      "metadata": {
        "id": "ZI9nbxJu8xCc"
      },
      "outputs": [],
      "source": [
        "import torch\n",
        "\n",
        "class Dataset(torch.utils.data.Dataset):\n",
        "  def __init__(self, encondings, labels):\n",
        "    self.encodings = encodings\n",
        "    self.labels = labels\n",
        "\n",
        "  def __getitem__(self, idx):\n",
        "    item = {key: torch.tensor(val[idx]) for key, val in self.encodings.items()}\n",
        "    item['labels'] = torch.tensor(self.lables[idx])\n",
        "    return item\n",
        "\n",
        "  def __len__(self):\n",
        "    return len(self.labels)\n",
        "\n",
        "\n",
        "train_dateset = Dataset(train_encodings, train_labels)\n",
        "test_dataset = Dataset(test_encodings, test_labels)"
      ]
    }
  ],
  "metadata": {
    "colab": {
      "provenance": []
    },
    "kernelspec": {
      "display_name": "Python 3",
      "name": "python3"
    },
    "language_info": {
      "name": "python"
    }
  },
  "nbformat": 4,
  "nbformat_minor": 0
}