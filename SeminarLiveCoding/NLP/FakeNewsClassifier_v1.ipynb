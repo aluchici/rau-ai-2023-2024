{
  "nbformat": 4,
  "nbformat_minor": 0,
  "metadata": {
    "colab": {
      "provenance": [],
      "machine_shape": "hm",
      "gpuType": "T4"
    },
    "kernelspec": {
      "name": "python3",
      "display_name": "Python 3"
    },
    "language_info": {
      "name": "python"
    },
    "accelerator": "GPU"
  },
  "cells": [
    {
      "cell_type": "code",
      "execution_count": null,
      "metadata": {
        "id": "KSE-ssjZh3A0"
      },
      "outputs": [],
      "source": [
        "import pandas as pd\n",
        "import numpy as np\n",
        "import matplotlib.pyplot as plt\n"
      ]
    },
    {
      "cell_type": "code",
      "source": [
        "# Read data from CSV and display first 5 rows.\n",
        "df = pd.read_csv(\"FakeNewsNet.csv\")\n",
        "df.head()\n",
        "df = df.iloc[:5000]"
      ],
      "metadata": {
        "id": "ez8epnm3ieq2"
      },
      "execution_count": null,
      "outputs": []
    },
    {
      "cell_type": "code",
      "source": [
        "# Check label values and number of entries\n",
        "df[\"real\"].unique(), len(df)"
      ],
      "metadata": {
        "colab": {
          "base_uri": "https://localhost:8080/"
        },
        "id": "J_UqE3lEisDH",
        "outputId": "bad76f9f-c46c-45e0-ceff-36c0bdc613b3"
      },
      "execution_count": null,
      "outputs": [
        {
          "output_type": "execute_result",
          "data": {
            "text/plain": [
              "(array([1, 0]), 5000)"
            ]
          },
          "metadata": {},
          "execution_count": 4
        }
      ]
    },
    {
      "cell_type": "code",
      "source": [
        "# Remove rows that have NaNs\n",
        "df = df.dropna()"
      ],
      "metadata": {
        "id": "nHEPB5vukd5U"
      },
      "execution_count": null,
      "outputs": []
    },
    {
      "cell_type": "code",
      "source": [
        "# Make sure NaN labels were removed, check how many entries are left\n",
        "df[\"real\"].unique(), len(df)"
      ],
      "metadata": {
        "id": "3uUgpB0Wkqfs"
      },
      "execution_count": null,
      "outputs": []
    },
    {
      "cell_type": "code",
      "source": [
        "len(df[\"title\"].unique()) == len(df)"
      ],
      "metadata": {
        "colab": {
          "base_uri": "https://localhost:8080/"
        },
        "id": "UwSBhOlPkr7T",
        "outputId": "361a33e1-2689-4ca4-c037-178c39d0da26"
      },
      "execution_count": null,
      "outputs": [
        {
          "output_type": "execute_result",
          "data": {
            "text/plain": [
              "False"
            ]
          },
          "metadata": {},
          "execution_count": 37
        }
      ]
    },
    {
      "cell_type": "code",
      "source": [
        "# Remove duplicated titles\n",
        "df = df.drop_duplicates(subset=[\"title\"])"
      ],
      "metadata": {
        "id": "x0vf8yqKlvxS"
      },
      "execution_count": null,
      "outputs": []
    },
    {
      "cell_type": "code",
      "source": [
        "len(df)"
      ],
      "metadata": {
        "colab": {
          "base_uri": "https://localhost:8080/"
        },
        "id": "Gm9EKeTUmU45",
        "outputId": "9b811813-e683-4bfe-8cce-50d42c8b2e78"
      },
      "execution_count": null,
      "outputs": [
        {
          "output_type": "execute_result",
          "data": {
            "text/plain": [
              "4821"
            ]
          },
          "metadata": {},
          "execution_count": 8
        }
      ]
    },
    {
      "cell_type": "code",
      "source": [
        "# Determine number of examples in each class\n",
        "df[\"real\"].value_counts()"
      ],
      "metadata": {
        "colab": {
          "base_uri": "https://localhost:8080/"
        },
        "id": "qbt2D1q-mY_S",
        "outputId": "9b5d2954-1cdd-45bc-f6da-2c8194248c21"
      },
      "execution_count": null,
      "outputs": [
        {
          "output_type": "execute_result",
          "data": {
            "text/plain": [
              "real\n",
              "1    3701\n",
              "0    1120\n",
              "Name: count, dtype: int64"
            ]
          },
          "metadata": {},
          "execution_count": 9
        }
      ]
    },
    {
      "cell_type": "code",
      "source": [
        "df[\"real\"].hist()\n",
        "plt.show()"
      ],
      "metadata": {
        "colab": {
          "base_uri": "https://localhost:8080/",
          "height": 430
        },
        "id": "hxQiCJF3nAOq",
        "outputId": "7300b462-0866-427b-af8c-4f4faec073d5"
      },
      "execution_count": null,
      "outputs": [
        {
          "output_type": "display_data",
          "data": {
            "text/plain": [
              "<Figure size 640x480 with 1 Axes>"
            ],
            "image/png": "[encoded data removed]"
          },
          "metadata": {}
        }
      ]
    },
    {
      "cell_type": "code",
      "source": [
        "X = df[\"title\"]\n",
        "y = df[\"real\"]"
      ],
      "metadata": {
        "id": "0I0sRzjHpCK4"
      },
      "execution_count": null,
      "outputs": []
    },
    {
      "cell_type": "code",
      "source": [
        "y.values[0]"
      ],
      "metadata": {
        "colab": {
          "base_uri": "https://localhost:8080/"
        },
        "id": "p-sXzMFH_yyg",
        "outputId": "756a2cd3-ede8-4163-d37a-deecb8fbee9b"
      },
      "execution_count": null,
      "outputs": [
        {
          "output_type": "execute_result",
          "data": {
            "text/plain": [
              "1"
            ]
          },
          "metadata": {},
          "execution_count": 21
        }
      ]
    },
    {
      "cell_type": "code",
      "source": [
        "from sklearn.preprocessing import OneHotEncoder\n",
        "\n",
        "oh = OneHotEncoder()\n",
        "y = oh.fit_transform(y.values.reshape(-1, 1)).toarray()"
      ],
      "metadata": {
        "id": "jCyekVht8lYJ"
      },
      "execution_count": null,
      "outputs": []
    },
    {
      "cell_type": "code",
      "source": [
        "y[0]"
      ],
      "metadata": {
        "colab": {
          "base_uri": "https://localhost:8080/"
        },
        "id": "1OSqnfXl_uzA",
        "outputId": "9824ad1b-8bf3-41ef-fe35-789033fa5c3e"
      },
      "execution_count": null,
      "outputs": [
        {
          "output_type": "execute_result",
          "data": {
            "text/plain": [
              "array([0., 1.])"
            ]
          },
          "metadata": {},
          "execution_count": 23
        }
      ]
    },
    {
      "cell_type": "code",
      "source": [
        "from tqdm import tqdm\n",
        "\n",
        "def remove_punctuation(word):\n",
        "  punctuation = [\",\", \";\", \"!\", \"?\", \".\", \"-\", \"'\", '\"', \"(\", \")\", \"[\", \"]\", \"{\", \"}\", \"`\"]\n",
        "  for c  in punctuation:\n",
        "    word = word.replace(c, \"\")\n",
        "  return word\n",
        "\n",
        "vocabulary = []\n",
        "for value in tqdm(X.values):\n",
        "  words = value.split(\" \")\n",
        "  words = [remove_punctuation(w) for w in words]\n",
        "  for word in words:\n",
        "    if word not in vocabulary:\n",
        "      word = word.lower()\n",
        "      if len(word) > 3:\n",
        "        vocabulary.append(word)\n",
        "\n",
        "len(vocabulary)"
      ],
      "metadata": {
        "colab": {
          "base_uri": "https://localhost:8080/"
        },
        "id": "HKuX5CwJqIC2",
        "outputId": "659a2ae3-a19f-4bf0-ee67-f8a05d86ff32"
      },
      "execution_count": null,
      "outputs": [
        {
          "output_type": "stream",
          "name": "stderr",
          "text": [
            "100%|██████████| 4821/4821 [00:13<00:00, 366.41it/s]\n"
          ]
        },
        {
          "output_type": "execute_result",
          "data": {
            "text/plain": [
              "34174"
            ]
          },
          "metadata": {},
          "execution_count": 24
        }
      ]
    },
    {
      "cell_type": "code",
      "source": [
        "data = []\n",
        "for value in tqdm(X.values):\n",
        "  text = np.zeros(len(vocabulary))\n",
        "  words = value.split(\" \")\n",
        "  words = [remove_punctuation(w) for w in words]\n",
        "  for word in words:\n",
        "      word = word.lower()\n",
        "      if word in vocabulary:\n",
        "        idx = vocabulary.index(word)\n",
        "        text[idx] += 1\n",
        "  data.append(text)"
      ],
      "metadata": {
        "colab": {
          "base_uri": "https://localhost:8080/"
        },
        "id": "ZCICcWz84yU0",
        "outputId": "a6706ec8-f22f-406c-cda7-5850bfb97f44"
      },
      "execution_count": null,
      "outputs": [
        {
          "output_type": "stream",
          "name": "stderr",
          "text": [
            "100%|██████████| 4821/4821 [00:14<00:00, 331.99it/s]\n"
          ]
        }
      ]
    },
    {
      "cell_type": "code",
      "source": [
        "data = np.array(data)\n",
        "data.shape"
      ],
      "metadata": {
        "colab": {
          "base_uri": "https://localhost:8080/"
        },
        "id": "flYjo7yR6Qz0",
        "outputId": "d9cce11d-8d70-4e49-d82c-1c656cd90d0a"
      },
      "execution_count": null,
      "outputs": [
        {
          "output_type": "execute_result",
          "data": {
            "text/plain": [
              "(4821, 34174)"
            ]
          },
          "metadata": {},
          "execution_count": 26
        }
      ]
    },
    {
      "cell_type": "code",
      "source": [
        "from sklearn.model_selection import train_test_split\n",
        "\n",
        "X_train, X_test, y_train, y_test = train_test_split(data, y, test_size=0.2, stratify=y)\n",
        "X_train.shape, y_train.shape, X_test.shape, y_test.shape"
      ],
      "metadata": {
        "colab": {
          "base_uri": "https://localhost:8080/"
        },
        "id": "mjfqYgMdn8tJ",
        "outputId": "d3c36033-c6e8-4bc5-8028-b6d5c19ce810"
      },
      "execution_count": null,
      "outputs": [
        {
          "output_type": "execute_result",
          "data": {
            "text/plain": [
              "((3856, 34174), (3856, 2), (965, 34174), (965, 2))"
            ]
          },
          "metadata": {},
          "execution_count": 29
        }
      ]
    },
    {
      "cell_type": "code",
      "source": [
        "import keras\n",
        "from keras.models import Sequential\n",
        "from keras.layers import Dense\n",
        "\n",
        "model = Sequential()\n",
        "model.add(Dense(20, input_dim=data.shape[1], activation=\"relu\"))\n",
        "model.add(Dense(15, activation=\"relu\"))\n",
        "model.add(Dense(10, activation=\"relu\"))\n",
        "model.add(Dense(2, activation=\"softmax\"))\n",
        "model.summary()"
      ],
      "metadata": {
        "colab": {
          "base_uri": "https://localhost:8080/"
        },
        "id": "QhzWTHwMp3Zl",
        "outputId": "ecdcfccd-9c69-4e5e-86b8-818c53975a5f"
      },
      "execution_count": null,
      "outputs": [
        {
          "output_type": "stream",
          "name": "stdout",
          "text": [
            "Model: \"sequential_1\"\n",
            "_________________________________________________________________\n",
            " Layer (type)                Output Shape              Param #   \n",
            "=================================================================\n",
            " dense_4 (Dense)             (None, 20)                683500    \n",
            "                                                                 \n",
            " dense_5 (Dense)             (None, 15)                315       \n",
            "                                                                 \n",
            " dense_6 (Dense)             (None, 10)                160       \n",
            "                                                                 \n",
            " dense_7 (Dense)             (None, 2)                 22        \n",
            "                                                                 \n",
            "=================================================================\n",
            "Total params: 683997 (2.61 MB)\n",
            "Trainable params: 683997 (2.61 MB)\n",
            "Non-trainable params: 0 (0.00 Byte)\n",
            "_________________________________________________________________\n"
          ]
        }
      ]
    },
    {
      "cell_type": "code",
      "source": [
        "model.compile(loss=\"categorical_crossentropy\", optimizer=\"adam\", metrics=[\"accuracy\"])"
      ],
      "metadata": {
        "id": "mDFq8aBC7g9K"
      },
      "execution_count": null,
      "outputs": []
    },
    {
      "cell_type": "code",
      "source": [
        "history = model.fit(X_train, y_train, validation_data=(X_test, y_test), epochs=25, batch_size=10)"
      ],
      "metadata": {
        "colab": {
          "base_uri": "https://localhost:8080/"
        },
        "id": "3GTsXYlw7_1Y",
        "outputId": "e34ddeaa-1e56-4126-c56d-79ece2c51eb3"
      },
      "execution_count": null,
      "outputs": [
        {
          "output_type": "stream",
          "name": "stdout",
          "text": [
            "Epoch 1/25\n",
            "386/386 [==============================] - 4s 6ms/step - loss: 0.4931 - accuracy: 0.7866 - val_loss: 0.4092 - val_accuracy: 0.8259\n",
            "Epoch 2/25\n",
            "386/386 [==============================] - 2s 5ms/step - loss: 0.2409 - accuracy: 0.9066 - val_loss: 0.4648 - val_accuracy: 0.8073\n",
            "Epoch 3/25\n",
            "386/386 [==============================] - 2s 5ms/step - loss: 0.0874 - accuracy: 0.9702 - val_loss: 0.6457 - val_accuracy: 0.7772\n",
            "Epoch 4/25\n",
            "386/386 [==============================] - 2s 5ms/step - loss: 0.0326 - accuracy: 0.9904 - val_loss: 0.8064 - val_accuracy: 0.7865\n",
            "Epoch 5/25\n",
            "386/386 [==============================] - 2s 4ms/step - loss: 0.0138 - accuracy: 0.9956 - val_loss: 0.9449 - val_accuracy: 0.7813\n",
            "Epoch 6/25\n",
            "386/386 [==============================] - 2s 5ms/step - loss: 0.0046 - accuracy: 0.9992 - val_loss: 1.0769 - val_accuracy: 0.7762\n",
            "Epoch 7/25\n",
            "386/386 [==============================] - 2s 5ms/step - loss: 0.0029 - accuracy: 0.9992 - val_loss: 1.1643 - val_accuracy: 0.7803\n",
            "Epoch 8/25\n",
            "386/386 [==============================] - 2s 4ms/step - loss: 0.0018 - accuracy: 0.9997 - val_loss: 1.2406 - val_accuracy: 0.7813\n",
            "Epoch 9/25\n",
            "386/386 [==============================] - 2s 4ms/step - loss: 0.0018 - accuracy: 0.9995 - val_loss: 1.3083 - val_accuracy: 0.7824\n",
            "Epoch 10/25\n",
            "386/386 [==============================] - 2s 5ms/step - loss: 0.0014 - accuracy: 0.9995 - val_loss: 1.3490 - val_accuracy: 0.7803\n",
            "Epoch 11/25\n",
            "386/386 [==============================] - 2s 5ms/step - loss: 0.0011 - accuracy: 0.9997 - val_loss: 1.3907 - val_accuracy: 0.7793\n",
            "Epoch 12/25\n",
            "386/386 [==============================] - 2s 4ms/step - loss: 8.7349e-04 - accuracy: 0.9997 - val_loss: 1.4765 - val_accuracy: 0.7855\n",
            "Epoch 13/25\n",
            "386/386 [==============================] - 2s 4ms/step - loss: 9.2325e-04 - accuracy: 0.9997 - val_loss: 1.4939 - val_accuracy: 0.7762\n",
            "Epoch 14/25\n",
            "386/386 [==============================] - 2s 4ms/step - loss: 0.0016 - accuracy: 0.9995 - val_loss: 1.4842 - val_accuracy: 0.7824\n",
            "Epoch 15/25\n",
            "386/386 [==============================] - 2s 4ms/step - loss: 7.8779e-04 - accuracy: 0.9997 - val_loss: 1.5691 - val_accuracy: 0.7845\n",
            "Epoch 16/25\n",
            "386/386 [==============================] - 2s 4ms/step - loss: 0.0013 - accuracy: 0.9995 - val_loss: 1.5698 - val_accuracy: 0.7824\n",
            "Epoch 17/25\n",
            "386/386 [==============================] - 2s 5ms/step - loss: 7.8352e-04 - accuracy: 0.9997 - val_loss: 1.5882 - val_accuracy: 0.7720\n",
            "Epoch 18/25\n",
            "386/386 [==============================] - 2s 5ms/step - loss: 7.8100e-04 - accuracy: 0.9997 - val_loss: 1.6765 - val_accuracy: 0.7793\n",
            "Epoch 19/25\n",
            "386/386 [==============================] - 2s 4ms/step - loss: 0.0017 - accuracy: 0.9995 - val_loss: 1.6623 - val_accuracy: 0.7824\n",
            "Epoch 20/25\n",
            "386/386 [==============================] - 2s 4ms/step - loss: 8.1985e-04 - accuracy: 0.9997 - val_loss: 1.6952 - val_accuracy: 0.7762\n",
            "Epoch 21/25\n",
            "386/386 [==============================] - 2s 4ms/step - loss: 0.0023 - accuracy: 0.9995 - val_loss: 1.6057 - val_accuracy: 0.7699\n",
            "Epoch 22/25\n",
            "386/386 [==============================] - 2s 4ms/step - loss: 0.0011 - accuracy: 0.9997 - val_loss: 1.6476 - val_accuracy: 0.7896\n",
            "Epoch 23/25\n",
            "386/386 [==============================] - 2s 4ms/step - loss: 0.0016 - accuracy: 0.9995 - val_loss: 1.6902 - val_accuracy: 0.7876\n",
            "Epoch 24/25\n",
            "386/386 [==============================] - 2s 5ms/step - loss: 0.0013 - accuracy: 0.9995 - val_loss: 1.6785 - val_accuracy: 0.7855\n",
            "Epoch 25/25\n",
            "386/386 [==============================] - 2s 5ms/step - loss: 8.3357e-04 - accuracy: 0.9997 - val_loss: 1.6616 - val_accuracy: 0.7793\n"
          ]
        }
      ]
    },
    {
      "cell_type": "code",
      "source": [
        "plt.figure()\n",
        "plt.plot(range(25), history.history[\"loss\"], label=\"Train\")\n",
        "plt.plot(range(25), history.history[\"val_loss\"], label=\"Test\")\n",
        "plt.legend()\n",
        "plt.show()"
      ],
      "metadata": {
        "colab": {
          "base_uri": "https://localhost:8080/",
          "height": 430
        },
        "id": "4gNoom8o8IeZ",
        "outputId": "39e936de-7d47-48a4-b7d3-ae93ac0d5c5f"
      },
      "execution_count": null,
      "outputs": [
        {
          "output_type": "display_data",
          "data": {
            "text/plain": [
              "<Figure size 640x480 with 1 Axes>"
            ],
            "image/png": "[encoded data removed]"
          },
          "metadata": {}
        }
      ]
    },
    {
      "cell_type": "code",
      "source": [
        "plt.figure()\n",
        "plt.plot(range(25), history.history[\"accuracy\"], label=\"Train\")\n",
        "plt.plot(range(25), history.history[\"val_accuracy\"], label=\"Test\")\n",
        "plt.legend()\n",
        "plt.show()"
      ],
      "metadata": {
        "colab": {
          "base_uri": "https://localhost:8080/",
          "height": 430
        },
        "id": "rhC_4QAnAS1u",
        "outputId": "64981e7d-1581-4e82-c4f9-424da0e769ab"
      },
      "execution_count": null,
      "outputs": [
        {
          "output_type": "display_data",
          "data": {
            "text/plain": [
              "<Figure size 640x480 with 1 Axes>"
            ],
            "image/png": "[encoded data removed]"
          },
          "metadata": {}
        }
      ]
    },
    {
      "cell_type": "code",
      "source": [],
      "metadata": {
        "id": "c6MTkjGXAv_F"
      },
      "execution_count": null,
      "outputs": []
    }
  ]
}